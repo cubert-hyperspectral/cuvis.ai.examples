{
 "cells": [
  {
   "cell_type": "code",
   "id": "initial_id",
   "metadata": {
    "collapsed": true,
    "ExecuteTime": {
     "end_time": "2025-03-03T11:20:35.345154Z",
     "start_time": "2025-03-03T11:20:33.291355Z"
    }
   },
   "source": [
    "import cuvis_ai\n",
    "import cuvis\n",
    "import yaml\n",
    "from EfficientAD_torch_model import EfficientAdModel\n",
    "import torch\n",
    "import numpy as np\n",
    "from torchvision.transforms import v2\n",
    "import cv2 as cv\n",
    "from pathlib import Path"
   ],
   "outputs": [],
   "execution_count": 1
  },
  {
   "metadata": {
    "ExecuteTime": {
     "end_time": "2025-03-03T11:20:35.353178Z",
     "start_time": "2025-03-03T11:20:35.345154Z"
    }
   },
   "cell_type": "code",
   "source": [
    "def remove_prefix(s, prefix):\n",
    "    if s.startswith(prefix):\n",
    "        return s[len(prefix):]\n",
    "    return s"
   ],
   "id": "1b5fb739da861cd4",
   "outputs": [],
   "execution_count": 2
  },
  {
   "metadata": {
    "ExecuteTime": {
     "end_time": "2025-03-03T11:20:35.515308Z",
     "start_time": "2025-03-03T11:20:35.511725Z"
    }
   },
   "cell_type": "code",
   "source": [
    "CONF ='example_train_config.yaml'\n",
    "WEIGHTS = '../data/checkpoints/Testrun/Testrun-epoch=00-val_im/AU-ROC=0.76.ckpt'\n",
    "MESU = '../data/test_data/test_cube.cu3s'"
   ],
   "id": "73f2f23c6836e5da",
   "outputs": [],
   "execution_count": 3
  },
  {
   "metadata": {},
   "cell_type": "markdown",
   "source": [
    "## Load Model\n",
    "\n",
    "First we create a cuvis.ai Graph using some the config parameters from our training."
   ],
   "id": "23026b39ed6a9c69"
  },
  {
   "metadata": {
    "ExecuteTime": {
     "end_time": "2025-03-03T11:20:37.453064Z",
     "start_time": "2025-03-03T11:20:35.525042Z"
    }
   },
   "cell_type": "code",
   "source": [
    "with open(CONF, 'r') as f:\n",
    "    config = yaml.safe_load(f)\n",
    "\n",
    "graph = cuvis_ai.pipeline.Graph('TestAD')\n",
    "\n",
    "modelNode = cuvis_ai.node.wrap.make_node(EfficientAdModel)(\n",
    "    criterion=torch.nn.NLLLoss, teacher_out_channels=384, model_size='medium', in_channels=6)"
   ],
   "id": "58fd8c00e9eb0ebc",
   "outputs": [],
   "execution_count": 4
  },
  {
   "metadata": {},
   "cell_type": "markdown",
   "source": [
    "## Create Pipeline\n",
    "\n",
    "Using some transformation nodes, a pipeline for data pre- and postprocessing is created"
   ],
   "id": "def844a2a1ddbdc8"
  },
  {
   "metadata": {
    "ExecuteTime": {
     "end_time": "2025-03-03T11:20:37.462678Z",
     "start_time": "2025-03-03T11:20:37.457239Z"
    }
   },
   "cell_type": "code",
   "source": [
    "CenterCrop = cuvis_ai.node.wrap.make_node(v2.CenterCrop)\n",
    "\n",
    "Resize = cuvis_ai.node.wrap.make_node(v2.Resize)\n",
    "\n",
    "Pad = cuvis_ai.node.wrap.make_node(v2.Pad)\n",
    "\n",
    "graph = graph >> CenterCrop((2100, 4600)) >> Resize(\n",
    "    (1050, 2300)) >> modelNode >> Pad(padding=75)"
   ],
   "id": "2b9ada91dbe666eb",
   "outputs": [],
   "execution_count": 5
  },
  {
   "metadata": {},
   "cell_type": "markdown",
   "source": [
    "## Load checkpoint\n",
    "\n",
    "We can easily load the model we previously trained using `train.py` into our modelNode"
   ],
   "id": "5b17724d22634323"
  },
  {
   "metadata": {
    "ExecuteTime": {
     "end_time": "2025-03-03T11:20:37.601784Z",
     "start_time": "2025-03-03T11:20:37.467007Z"
    }
   },
   "cell_type": "code",
   "source": [
    "checkpoint = torch.load(WEIGHTS, weights_only=True)\n",
    "\n",
    "#TODO: check if i need to remove prefixes in this case\n",
    "state_dict = {remove_prefix(\n",
    "    k, 'model.'): v for k, v in checkpoint['state_dict'].items()}\n",
    "\n",
    "modelNode.model.load_state_dict(state_dict)\n",
    "modelNode.initialized = True"
   ],
   "id": "3563ff7ba6821304",
   "outputs": [],
   "execution_count": 6
  },
  {
   "metadata": {},
   "cell_type": "markdown",
   "source": [
    "## Save cuvis.ai graph\n",
    "\n",
    "When saving the graph to disk, the whole pipeline and model code will be saved as well."
   ],
   "id": "a7e5981b7a394181"
  },
  {
   "metadata": {
    "ExecuteTime": {
     "end_time": "2025-03-03T11:20:40.461122Z",
     "start_time": "2025-03-03T11:20:37.728581Z"
    }
   },
   "cell_type": "code",
   "source": "graph.save_to_file('effADTuesdayDataset')",
   "id": "46b6f86d1f40b0c0",
   "outputs": [
    {
     "name": "stdout",
     "output_type": "stream",
     "text": [
      "Cant find class 'ValueError'\n",
      "Cant find class 'super'\n",
      "Cant find class 'self'\n",
      "Cant find class 'super'\n",
      "Cant find class 'self'\n",
      "Cant find class 'super'\n",
      "Cant find class 'self'\n",
      "Cant find class 'x'\n",
      "Cant find class 'any'\n",
      "Cant find class 'super'\n",
      "Cant find class 'self'\n",
      "Cant find class 'batch'\n",
      "Cant find class 'super'\n",
      "Cant find class 'self'\n",
      "Cant find class 'x'\n",
      "Cant find class 'value'\n",
      "Cant find class 'p_dic'\n",
      "Cant find class 'super'\n",
      "Cant find class 'self'\n",
      "Cant find class 'x'\n",
      "Project saved to effADTuesdayDataset\n"
     ]
    }
   ],
   "execution_count": 7
  },
  {
   "metadata": {},
   "cell_type": "markdown",
   "source": [
    "## Load cuvis.ai graph from file\n",
    "\n",
    "We can now load the zip file again into any project without having to worry about the model class being available there."
   ],
   "id": "41624fbd049d1bee"
  },
  {
   "metadata": {
    "ExecuteTime": {
     "end_time": "2025-03-03T11:20:41.242066Z",
     "start_time": "2025-03-03T11:20:40.502039Z"
    }
   },
   "cell_type": "code",
   "source": [
    "loaded = cuvis_ai.pipeline.Graph.load_from_file(\n",
    "    'effADTuesdayDataset.zip')"
   ],
   "id": "47860174e9d2e7a2",
   "outputs": [
    {
     "name": "stdout",
     "output_type": "stream",
     "text": [
      "Re-initializing module because the following parameters were re-set: module__in_channels, module__model_size, module__teacher_out_channels.\n",
      "Re-initializing criterion.\n",
      "Re-initializing optimizer.\n"
     ]
    }
   ],
   "execution_count": 8
  },
  {
   "metadata": {},
   "cell_type": "markdown",
   "source": [
    "## Infer one cube\n",
    "\n",
    "Using the forward function of our Graph we can now easily infer any cubert SessionFile that has the same dimensions as the ones we trained our model with. "
   ],
   "id": "4ca31c8920cb585f"
  },
  {
   "metadata": {
    "ExecuteTime": {
     "end_time": "2025-03-03T11:23:09.372869Z",
     "start_time": "2025-03-03T11:22:13.478926Z"
    }
   },
   "cell_type": "code",
   "source": [
    "num_samples = 1\n",
    "input_mesu = cuvis.SessionFile(str(MESU)).get_measurement(0)\n",
    "proc = cuvis.ProcessingContext(input_mesu)\n",
    "proc.apply(input_mesu)\n",
    "input_data = input_mesu.data[\"cube\"].array\n",
    "input_data = input_data[:, :, [2, 1, 0, 5, 4, 3]] # convert BGR to RGB\n",
    "#expected = cv.imread(EXPECTED_PRED)\n",
    "\n",
    "normalized_data = np.expand_dims(input_data, 0)\n",
    "normalized_data = normalized_data.astype(np.float32)\n",
    "output = loaded.forward(normalized_data)"
   ],
   "id": "48b56edda397f072",
   "outputs": [
    {
     "name": "stdout",
     "output_type": "stream",
     "text": [
      "--- 54.659531593322754 seconds ---\n"
     ]
    }
   ],
   "execution_count": 11
  },
  {
   "metadata": {},
   "cell_type": "markdown",
   "source": "## Display the result\n",
   "id": "761d16d182cfa162"
  },
  {
   "metadata": {
    "ExecuteTime": {
     "end_time": "2025-03-03T11:23:12.247731Z",
     "start_time": "2025-03-03T11:23:09.442059Z"
    }
   },
   "cell_type": "code",
   "source": [
    "cv.imshow(\"output\", output[0])\n",
    "cv.imshow(\"input\", cv.normalize(input_data[:,:,:3], None, 0,255,cv.NORM_MINMAX,0))\n",
    "\n",
    "#cv.imshow(\"expected\", expected)\n",
    "\n",
    "cv.waitKey(-1)\n",
    "cv.destroyAllWindows()"
   ],
   "id": "70bb920058776cd5",
   "outputs": [],
   "execution_count": 12
  }
 ],
 "metadata": {
  "kernelspec": {
   "display_name": "Python 3",
   "language": "python",
   "name": "python3"
  },
  "language_info": {
   "codemirror_mode": {
    "name": "ipython",
    "version": 2
   },
   "file_extension": ".py",
   "mimetype": "text/x-python",
   "name": "python",
   "nbconvert_exporter": "python",
   "pygments_lexer": "ipython2",
   "version": "2.7.6"
  }
 },
 "nbformat": 4,
 "nbformat_minor": 5
}
