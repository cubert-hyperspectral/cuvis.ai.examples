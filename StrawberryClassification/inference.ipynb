{
 "cells": [
  {
   "cell_type": "code",
   "execution_count": null,
   "id": "0",
   "metadata": {},
   "outputs": [],
   "source": [
    "import cuvis_ai\n",
    "import cuvis\n",
    "import yaml\n",
    "from UNet import FreshTwin2DUNet\n",
    "import torch\n",
    "import numpy as np\n",
    "import cv2 as cv\n",
    "from pathlib import Path"
   ]
  },
  {
   "cell_type": "code",
   "execution_count": null,
   "id": "1",
   "metadata": {},
   "outputs": [],
   "source": [
    "def remove_prefix(s, prefix):\n",
    "    if s.startswith(prefix):\n",
    "        return s[len(prefix):]\n",
    "    return s"
   ]
  },
  {
   "cell_type": "code",
   "execution_count": null,
   "id": "2",
   "metadata": {},
   "outputs": [],
   "source": [
    "CONF = 'UNet_train_config.yaml'\n",
    "WEIGHTS = 'strawberry_swir_unet.ckpt'\n",
    "proc = None"
   ]
  },
  {
   "cell_type": "markdown",
   "id": "3",
   "metadata": {},
   "source": [
    "## Load Model\n",
    "\n",
    "First we create a cuvis.ai Graph using some the config parameters from our training."
   ]
  },
  {
   "cell_type": "code",
   "execution_count": null,
   "id": "4",
   "metadata": {},
   "outputs": [],
   "source": [
    "with open(CONF, 'r') as f:\n",
    "    config = yaml.safe_load(f)\n",
    "\n",
    "graph = cuvis_ai.pipeline.Graph('Strawberry_graph')\n",
    "\n",
    "modelNode = cuvis_ai.node.wrap.make_node(FreshTwin2DUNet)(\n",
    "    criterion=torch.nn.NLLLoss, num_classes=config[\"num_classes\"], in_channels=config[\"pca_channels\"])"
   ]
  },
  {
   "cell_type": "markdown",
   "id": "5",
   "metadata": {},
   "source": [
    "## Create Pipeline\n",
    "\n",
    "In this case our Graph only consists of one Node. The PCA preprocessing is included in our Model and already loaded from the checkpoint."
   ]
  },
  {
   "cell_type": "code",
   "execution_count": null,
   "id": "6",
   "metadata": {},
   "outputs": [],
   "source": [
    "graph = graph >> modelNode"
   ]
  },
  {
   "cell_type": "markdown",
   "id": "7",
   "metadata": {},
   "source": [
    "## Load checkpoint\n",
    "\n",
    "We can easily load the model we previously trained using `train.py` into our modelNode"
   ]
  },
  {
   "cell_type": "code",
   "execution_count": null,
   "id": "8",
   "metadata": {},
   "outputs": [],
   "source": [
    "checkpoint = torch.load(WEIGHTS, weights_only=False)\n",
    "\n",
    "state_dict = {remove_prefix(\n",
    "    k, 'model.'): v for k, v in checkpoint['state_dict'].items()}\n",
    "\n",
    "modelNode.model.load_state_dict(state_dict)\n",
    "modelNode.initialized = True\n",
    "modelNode.model.pca = checkpoint['pca']"
   ]
  },
  {
   "cell_type": "markdown",
   "id": "9",
   "metadata": {},
   "source": [
    "## Save cuvis.ai graph\n",
    "\n",
    "When saving the graph to disk, the whole pipeline and model code will be saved as well."
   ]
  },
  {
   "cell_type": "code",
   "execution_count": null,
   "id": "10",
   "metadata": {},
   "outputs": [],
   "source": [
    "graph.save_to_file('Strawberry_Unet.ai')"
   ]
  },
  {
   "cell_type": "markdown",
   "id": "11",
   "metadata": {},
   "source": [
    "## Load cuvis.ai graph from file\n",
    "\n",
    "We can now load the zip file again into any project without having to worry about the model class being available there."
   ]
  },
  {
   "cell_type": "code",
   "execution_count": null,
   "id": "12",
   "metadata": {},
   "outputs": [],
   "source": [
    "loaded = cuvis_ai.pipeline.Graph.load_from_file('Strawberry_Unet.ai.zip')"
   ]
  },
  {
   "cell_type": "markdown",
   "id": "13",
   "metadata": {},
   "source": []
  },
  {
   "cell_type": "markdown",
   "id": "14",
   "metadata": {},
   "source": [
    "## Infer one cube\n",
    "\n",
    "Using the forward function of our graph we can now infer any cubert SessionFile that has the same dimensions as the ones we trained our model with."
   ]
  },
  {
   "cell_type": "code",
   "execution_count": null,
   "id": "15",
   "metadata": {},
   "outputs": [],
   "source": [
    "MESU = '../data/Strawberry_SWIR/Strawberry_133_5_22_04_25.cu3s'"
   ]
  },
  {
   "cell_type": "code",
   "execution_count": null,
   "id": "16",
   "metadata": {},
   "outputs": [],
   "source": [
    "sess = cuvis.SessionFile(str(MESU))\n",
    "input_mesu = sess.get_measurement(0)\n",
    "\n",
    "if \"cube\" not in input_mesu.data:\n",
    "    if proc is None:\n",
    "        # create processing context only once if there are session files without cubes\n",
    "        proc = cuvis.ProcessingContext(sess)\n",
    "        if Path(config[\"white_path\"]).exists() and Path(config[\"dark_path\"]).exists():\n",
    "            proc.set_reference(cuvis.SessionFile(config[\"white_path\"]).get_measurement(0), cuvis.ReferenceType.White)\n",
    "            proc.set_reference(cuvis.SessionFile(config[\"dark_path\"]).get_measurement(0), cuvis.ReferenceType.Dark)\n",
    "            proc.processing_mode = cuvis.ProcessingMode.Reflectance\n",
    "    mesu = proc.apply(input_mesu)\n",
    "input_data = input_mesu.data[\"cube\"].array\n",
    "output = graph.forward(np.expand_dims(input_data.astype(np.float32),0)) "
   ]
  },
  {
   "cell_type": "markdown",
   "id": "17",
   "metadata": {},
   "source": [
    "## Display the result"
   ]
  },
  {
   "cell_type": "code",
   "execution_count": null,
   "id": "18",
   "metadata": {},
   "outputs": [],
   "source": [
    "cv.imshow(\"input RGB\", cv.cvtColor(cv.normalize(input_data[:,:,config[\"cube_rgb_channels\"]], None, 0, 255, cv.NORM_MINMAX, 0),cv.COLOR_BGR2RGB))\n",
    "output_img = np.zeros_like(output)\n",
    "prediction = np.argmax(output, axis=2)\n",
    "output_img[:, :, 0] = (prediction == 1).astype(np.float32) # Strawberry will be labeled red\n",
    "output_img[:, :, 2] = (prediction == 2).astype(np.float32) # Bruise will be labled blue\n",
    " \n",
    "cv.imshow(\"output\", cv.cvtColor(cv.normalize(output_img, None, 255, 0, cv.NORM_MINMAX, 0),cv.COLOR_BGR2RGB))\n",
    "\n",
    "cv.waitKey(-1)\n",
    "cv.destroyAllWindows()"
   ]
  },
  {
   "cell_type": "code",
   "execution_count": null,
   "id": "19",
   "metadata": {},
   "outputs": [],
   "source": []
  }
 ],
 "metadata": {
  "kernelspec": {
   "display_name": "Python 3",
   "language": "python",
   "name": "python3"
  },
  "language_info": {
   "codemirror_mode": {
    "name": "ipython",
    "version": 2
   },
   "file_extension": ".py",
   "mimetype": "text/x-python",
   "name": "python",
   "nbconvert_exporter": "python",
   "pygments_lexer": "ipython2",
   "version": "2.7.6"
  }
 },
 "nbformat": 4,
 "nbformat_minor": 5
}
