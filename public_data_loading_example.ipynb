{
 "cells": [
  {
   "metadata": {},
   "cell_type": "code",
   "outputs": [],
   "execution_count": null,
   "source": [
    "import numpy as np\n",
    "import matplotlib.pyplot as plt\n",
    "import cuvis\n",
    "from cuvis_ai.pipeline import Graph\n",
    "from cuvis_ai.distance import SpectralAngle\n",
    "from cuvis_ai.data import PublicDataSets\n",
    "from IPython.display import clear_output\n",
    "%matplotlib inline"
   ],
   "id": "f1cbc9619dcf2828"
  },
  {
   "metadata": {},
   "cell_type": "markdown",
   "source": [
    "# Public Data Loading and SAM tracking\n",
    "\n",
    "in this example a public dataset is loaded containing measurements of an Aquarium obtained with a cubert hyperspectral camera. After loading the data, the first image is displayed and a reference spectrum for a spectral angle mapper node is obtained. Using a SAM trained on the reference spectrum, the images of the video are classified and plotted.\n",
    "\n",
    "## Download public dataset"
   ],
   "id": "7e09413392247e0c"
  },
  {
   "metadata": {},
   "cell_type": "code",
   "outputs": [],
   "execution_count": null,
   "source": [
    "data_path = \"../../test_data/Aquarium\"\n",
    "data = PublicDataSets.download_dataset(\"Aquarium\", download_path=data_path)"
   ],
   "id": "28ad51227dcf5b66"
  },
  {
   "metadata": {},
   "cell_type": "markdown",
   "source": [
    "## Create graph and process measurement\n",
    "The data in the Aquarium dataset is not processed yet. This reduces the size considerably."
   ],
   "id": "ec1809b5abdfdaa9"
  },
  {
   "metadata": {},
   "cell_type": "code",
   "outputs": [],
   "execution_count": null,
   "source": [
    "graph = Graph('Aquarium_dist')\n",
    "session = cuvis.SessionFile(data_path + '/Auto_004.cu3s')\n",
    "mesu = session.get_measurement(1)\n",
    "pc = cuvis.ProcessingContext(session)\n",
    "pc.apply(mesu)\n",
    "cube = mesu.data.get(\"cube\")"
   ],
   "id": "97ff062743d2f5ba"
  },
  {
   "metadata": {},
   "cell_type": "markdown",
   "source": "## Variable assignment",
   "id": "f5a48d44809c806b"
  },
  {
   "metadata": {},
   "cell_type": "code",
   "outputs": [],
   "execution_count": null,
   "source": [
    "cube_array = cube.array\n",
    "wave_lengths = cube.wavelength\n",
    "spectrum_y_coord = 28\n",
    "spectrum_x_coord = 35"
   ],
   "id": "7d17b0aecd8c01ed"
  },
  {
   "metadata": {},
   "cell_type": "markdown",
   "source": "## Getting a reference spectrum from the measurement for the SAM",
   "id": "90731a2ff2384170"
  },
  {
   "metadata": {},
   "cell_type": "code",
   "outputs": [],
   "execution_count": null,
   "source": [
    "ref_spectrum = np.array([cube_array[spectrum_y_coord, spectrum_x_coord, :]])\n",
    "plt.figure()\n",
    "plt.plot(wave_lengths, ref_spectrum.T)\n",
    "plt.show()"
   ],
   "id": "22d25a087274be50"
  },
  {
   "metadata": {},
   "cell_type": "markdown",
   "source": "## Display the position at which the spectrum was extracted ",
   "id": "10fad984b7946545"
  },
  {
   "metadata": {},
   "cell_type": "code",
   "outputs": [],
   "execution_count": null,
   "source": [
    "plt.figure()\n",
    "plt.imshow(cube_array[:, :, 31], cmap='binary')\n",
    "plt.scatter(spectrum_x_coord, spectrum_y_coord, s=5, c='r')\n",
    "plt.show()"
   ],
   "id": "94a52e6f13d291f8"
  },
  {
   "metadata": {},
   "cell_type": "markdown",
   "source": "## Create the SAM and set a maximal allowed distance from the reference spectrum ",
   "id": "7de6b3bdf16a212c"
  },
  {
   "metadata": {},
   "cell_type": "code",
   "outputs": [],
   "execution_count": null,
   "source": [
    "SAM = SpectralAngle(ref_spectrum)\n",
    "max_distance = 0.2"
   ],
   "id": "7446920c3adfbdbc"
  },
  {
   "metadata": {},
   "cell_type": "markdown",
   "source": [
    "## Iterate through the session file and classify all measurements\n",
    "\n",
    "Here a custom colormap is used to only show pixels which are classified and make the rest of the mask transparent. The SAM expects normalized images, so we need to normalize our measurements before classifying them."
   ],
   "id": "635de413b16c2193"
  },
  {
   "metadata": {},
   "cell_type": "code",
   "outputs": [],
   "execution_count": null,
   "source": [
    "cmap = plt.get_cmap('Reds')\n",
    "cmap.set_under('k', alpha=0)\n",
    "for i in range(10,100,2):\n",
    "    clear_output()\n",
    "    mesu = session.get_measurement(i)\n",
    "    pc.apply(mesu)\n",
    "    cube = mesu.data.get(\"cube\").array\n",
    "    cube_norm = np.linalg.norm(cube)\n",
    "    cube_norm = cube/cube_norm\n",
    "    out = SAM.forward(cube_norm)\n",
    "    out[out > max_distance] = 0\n",
    "    fig = plt.figure()\n",
    "    ax = fig.add_subplot(111)\n",
    "    img = cube[:,:,31] \n",
    "    ax.imshow(img,cmap=\"binary\")\n",
    "    ax.imshow(out, cmap, alpha=1, vmin=out.max()*max_distance)\n",
    "    plt.show()\n",
    "    plt.pause(0.1)   "
   ],
   "id": "e1a4bbc6966cc9b0"
  }
 ],
 "metadata": {
  "kernelspec": {
   "display_name": "Python 3",
   "language": "python",
   "name": "python3"
  },
  "language_info": {
   "codemirror_mode": {
    "name": "ipython",
    "version": 2
   },
   "file_extension": ".py",
   "mimetype": "text/x-python",
   "name": "python",
   "nbconvert_exporter": "python",
   "pygments_lexer": "ipython2",
   "version": "2.7.6"
  }
 },
 "nbformat": 4,
 "nbformat_minor": 5
}
