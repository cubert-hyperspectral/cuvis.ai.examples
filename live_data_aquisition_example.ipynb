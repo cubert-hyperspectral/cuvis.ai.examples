{
 "cells": [
  {
   "metadata": {},
   "cell_type": "markdown",
   "source": [
    "# LiveCuvisDataLoader example\n",
    "\n",
    "In this example a connection to a cubert camera is established and used to capture live images. These images are then processed by a simple unsupervised graph. Later in the example a new measurement is used to extract a sample spectra and train a spectral angle mapper with to find this spectra in newly presented images."
   ],
   "id": "2101ace43ae8005f"
  },
  {
   "cell_type": "code",
   "id": "initial_id",
   "metadata": {
    "collapsed": true
   },
   "source": [
    "import numpy as np\n",
    "import matplotlib.pyplot as plt\n",
    "from cuvis_ai.preprocessor import PCA, NMF\n",
    "import cv2 as cv\n",
    "from cuvis_ai.pipeline import Graph\n",
    "from cuvis_ai.unsupervised import KMeans, GMM\n",
    "from cuvis_ai.data.LiveCuvisDataLoader import LiveCuvisDataLoader\n",
    "from cuvis_ai.distance import Euclidean, SpectralAngle, ECS\n",
    "import cuvis.AcquisitionContext\n",
    "from IPython.display import clear_output\n",
    "%matplotlib inline"
   ],
   "outputs": [],
   "execution_count": null
  },
  {
   "metadata": {},
   "cell_type": "markdown",
   "source": [
    "## create LiveCuvisDataLoader and initialize the camera\n",
    "The initialize function expects the path to the camera directory"
   ],
   "id": "f34ec9164e466e0f"
  },
  {
   "metadata": {},
   "cell_type": "code",
   "source": [
    "live_loader = LiveCuvisDataLoader()\n",
    "live_loader.initialize('PATH/TO/CAMERA')"
   ],
   "id": "f3a72fb5c9cff1ca",
   "outputs": [],
   "execution_count": null
  },
  {
   "metadata": {},
   "cell_type": "markdown",
   "source": "## Record distance, dark and white reference",
   "id": "b4af1138a92cc65c"
  },
  {
   "metadata": {},
   "cell_type": "code",
   "source": "live_loader.record_distance()",
   "id": "2555ea811e7fc1f8",
   "outputs": [],
   "execution_count": null
  },
  {
   "metadata": {},
   "cell_type": "code",
   "source": "live_loader.record_dark()",
   "id": "dfd4827e5ca30990",
   "outputs": [],
   "execution_count": null
  },
  {
   "metadata": {},
   "cell_type": "code",
   "source": "live_loader.record_white()",
   "id": "39b2df93dc5e17b4",
   "outputs": [],
   "execution_count": null
  },
  {
   "metadata": {},
   "cell_type": "markdown",
   "source": [
    "## Display the references\n",
    " Note that the distance reference will not be shown "
   ],
   "id": "b3bed26b11241158"
  },
  {
   "metadata": {},
   "cell_type": "code",
   "source": "live_loader.get_references()",
   "id": "ac38e3503dbddc6b",
   "outputs": [],
   "execution_count": null
  },
  {
   "metadata": {},
   "cell_type": "markdown",
   "source": [
    "## Acquire a new measurement and display one channel of it. \n",
    "Squeezing is nessecary for displaying because the data loader loads as 5D array *[batch_size, number_of_images, height, width, number_of_channels]*"
   ],
   "id": "af4c0ecd8b2a7acc"
  },
  {
   "metadata": {},
   "cell_type": "code",
   "source": [
    "data = live_loader.__next__()\n",
    "squeezed_data = np.squeeze(data[0])\n",
    "plt.imshow(squeezed_data[:,:,19], cmap='Greys')\n"
   ],
   "id": "f66c0dd5fe20f6dd",
   "outputs": [],
   "execution_count": null
  },
  {
   "metadata": {},
   "cell_type": "markdown",
   "source": [
    "## Graph and Node creation. \n",
    "The Graph needs to be fitted to the input data before usage."
   ],
   "id": "e5e038412a5798a1"
  },
  {
   "metadata": {},
   "cell_type": "code",
   "source": [
    "graph = Graph(\"example_graph\")\n",
    "pca_stage = PCA(n_components=5)\n",
    "kmeans_stage = KMeans(n_clusters=5)\n",
    "gmm_stage = GMM(n_clusters=3)\n",
    "graph.add_base_node(pca_stage)\n",
    "graph.add_node(gmm_stage,pca_stage)\n",
    "graph.fit(squeezed_data)"
   ],
   "id": "ee6bdc219cc62274",
   "outputs": [],
   "execution_count": null
  },
  {
   "metadata": {},
   "cell_type": "markdown",
   "source": [
    "## Continuous capturing, processing and displaying of measurements and graph output.\n",
    "\n",
    "Unfortunately you need to stop the execution manually right now, as matplotlib events and cv.waitKey don't seem to work in jupyter notebooks."
   ],
   "id": "8c597d59e2eaa276"
  },
  {
   "metadata": {},
   "cell_type": "code",
   "source": [
    "go_on = True\n",
    "img = np.zeros((275,290,3))\n",
    "\n",
    "while go_on:\n",
    "    cv.startWindowThread()\n",
    "    clear_output()\n",
    "    mesu = live_loader.__next__()\n",
    "    squeezed_mesu = np.squeeze(mesu[0])\n",
    "    \n",
    "    out = graph.forward(squeezed_mesu)\n",
    "    fig, ax = plt.subplots(2)\n",
    "    \n",
    "    img[:,:,0] = cv.normalize(squeezed_mesu[:,:,26], None, 1, 0.0, cv.NORM_MINMAX, dtype=cv.CV_32F)\n",
    "    img[:,:,1] = cv.normalize(squeezed_mesu[:,:,9], None, 1, 0.0, cv.NORM_MINMAX, dtype=cv.CV_32F)\n",
    "    img[:,:,2] = cv.normalize(squeezed_mesu[:,:,7], None, 1, 0.0, cv.NORM_MINMAX, dtype=cv.CV_32F)\n",
    "    img[img < 0.001] = 0 \n",
    "    ax[0].imshow(img)\n",
    "    ax[1].imshow(out[0])\n",
    "    plt.show()    \n",
    "    plt.pause(0.1)\n"
   ],
   "id": "632852bb53df60a0",
   "outputs": [],
   "execution_count": null
  },
  {
   "metadata": {},
   "cell_type": "markdown",
   "source": "## Extract a Spectrum from center of the image as reference for distance nodes and plot it.",
   "id": "8b2b1b880f34d99"
  },
  {
   "metadata": {},
   "cell_type": "code",
   "source": [
    "ref_area_size = 20\n",
    "ref_area_position_y = int(squeezed_data.shape[0]/2)\n",
    "ref_area_position_x = int(squeezed_data.shape[1]/2)\n",
    "\n",
    "ref_spectra = np.array([squeezed_data[ref_area_position_y-ref_area_size:ref_area_position_y+ref_area_size, ref_area_position_x-ref_area_size:ref_area_position_x+ref_area_size:, :]])\n",
    "\n",
    "spectra_mean = np.mean(np.mean(ref_spectra, axis=1), axis=1)\n",
    "\n",
    "plt.figure()\n",
    "plt.plot(spectra_mean.T)\n",
    "plt.show()"
   ],
   "id": "841b24c10b89837d",
   "outputs": [],
   "execution_count": null
  },
  {
   "metadata": {},
   "cell_type": "markdown",
   "source": "## Creation of different distance nodes.",
   "id": "25c099d7405c3e4f"
  },
  {
   "metadata": {},
   "cell_type": "code",
   "source": [
    "euclidean_node = Euclidean(spectra_mean)\n",
    "SAM_node = SpectralAngle(spectra_mean)\n",
    "ECS_node = ECS(spectra_mean)"
   ],
   "id": "f10ee73b1fabc60d",
   "outputs": [],
   "execution_count": null
  },
  {
   "metadata": {},
   "cell_type": "markdown",
   "source": [
    "## Using the distance nodes\n",
    " \n",
    "capturing an image, passing it through the distance node and displaying segmentation alongside a channel."
   ],
   "id": "8d87c68a556d5267"
  },
  {
   "metadata": {},
   "cell_type": "code",
   "source": [
    "data = live_loader.__next__()\n",
    "squeezed_data = np.squeeze(data[0])\n",
    "data_norm = np.linalg.norm(squeezed_data)\n",
    "data_normed = squeezed_data/data_norm\n",
    "out = SAM_node.forward(data_normed, spectra_mean)\n",
    "out[out > out.max()*0.1] = 0\n",
    "fig = plt.figure()\n",
    "ax = fig.add_subplot(111)\n",
    "img = squeezed_data[:,:,31] \n",
    "ax.imshow(img,cmap=\"binary\")\n",
    "ax.imshow(out, cmap=\"Reds\", alpha=0.5)"
   ],
   "id": "d4038e3a27691d59",
   "outputs": [],
   "execution_count": null
  }
 ],
 "metadata": {
  "kernelspec": {
   "display_name": "Python 3",
   "language": "python",
   "name": "python3"
  },
  "language_info": {
   "codemirror_mode": {
    "name": "ipython",
    "version": 2
   },
   "file_extension": ".py",
   "mimetype": "text/x-python",
   "name": "python",
   "nbconvert_exporter": "python",
   "pygments_lexer": "ipython2",
   "version": "2.7.6"
  }
 },
 "nbformat": 4,
 "nbformat_minor": 5
}
