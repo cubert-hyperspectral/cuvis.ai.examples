{
 "cells": [
  {
   "cell_type": "code",
   "execution_count": 1,
   "metadata": {},
   "outputs": [],
   "source": [
    "import os\n",
    "import glob\n",
    "import cuvis\n",
    "import cuvis_ai\n",
    "import cuvis_ai.data\n",
    "from PIL import Image as Img\n",
    "import tqdm.notebook as tqdm\n",
    "import matplotlib.pyplot as plt\n",
    "from IPython.display import Image, display"
   ]
  },
  {
   "cell_type": "code",
   "execution_count": null,
   "metadata": {},
   "outputs": [],
   "source": [
    "# Download a publicly available dataset\n",
    "base_path = \"./cuvis_ai_video\"\n",
    "os.mkdir(base_path)\n",
    "data_down = cuvis_ai.data.PublicDataSets()\n",
    "data_down.download_dataset(\"Aquarium\", download_path=base_path)"
   ]
  },
  {
   "cell_type": "code",
   "execution_count": 3,
   "metadata": {},
   "outputs": [],
   "source": [
    "# Let's look at a single example\n",
    "# BASEPATH should be the location of the BananaNet training data\n",
    "cubes = glob.glob(f'{base_path}/*.cu3s')\n",
    "data = cuvis.SessionFile(cubes[0]).get_measurement(0)\n",
    "sample_cube = data.data.get('cube').array\n",
    "waves = data.data.get('cube').wavelength"
   ]
  },
  {
   "cell_type": "code",
   "execution_count": null,
   "metadata": {},
   "outputs": [],
   "source": [
    "# Show RGB image\n",
    "plt.subplot(1, 2, 1)\n",
    "plt.imshow(sample_cube[:,:,10])\n",
    "plt.scatter([50],[50],[15],['red'])\n",
    "plt.scatter([50],[30],[15],['orange'])\n",
    "plt.scatter([50],[150],[15],['green'])\n",
    "plt.scatter([150],[150],[15],['magenta'])\n",
    "plt.title('Single Channel Representation')\n",
    "plt.subplot(1, 2, 2)\n",
    "plt.plot(waves, sample_cube[50,50,:], 'red', label='Water')\n",
    "plt.plot(waves, sample_cube[30,50,:], 'orange', label='Fish')\n",
    "plt.plot(waves, sample_cube[150,50,:], 'green', label='Plant')\n",
    "plt.plot(waves, sample_cube[150,150,:], 'magenta', label='Plant 2')\n",
    "plt.title('Spectra Representation')\n",
    "plt.legend()\n",
    "plt.tight_layout()\n",
    "plt.show()"
   ]
  },
  {
   "cell_type": "code",
   "execution_count": 5,
   "metadata": {},
   "outputs": [],
   "source": [
    "# Define number of parameters useful for understanding our classes\n",
    "number_of_components = 6\n",
    "number_of_classes = 4"
   ]
  },
  {
   "cell_type": "code",
   "execution_count": 6,
   "metadata": {},
   "outputs": [],
   "source": [
    "# Define SAM node\n",
    "sam = cuvis_ai.distance.SpectralAngle(ref_spectra=[\n",
    "    sample_cube[50,50,:],\n",
    "    sample_cube[30,50,:],\n",
    "    sample_cube[150,50,:],\n",
    "    sample_cube[150,150,:]\n",
    "])"
   ]
  },
  {
   "cell_type": "code",
   "execution_count": 9,
   "metadata": {},
   "outputs": [],
   "source": [
    "# Distance decider node\n",
    "decider = cuvis_ai.deciders.MultiClassDecider(number_of_classes, use_min=True)"
   ]
  },
  {
   "cell_type": "code",
   "execution_count": null,
   "metadata": {},
   "outputs": [],
   "source": [
    "# Define and construct graph\n",
    "# This will throw an initialization warning \"Unsatisfied dimensionality constraint\"\n",
    "# This is expected behavior\n",
    "graph = cuvis_ai.pipeline.Graph(\"DemoGraph\")\n",
    "graph.add_base_node(sam)\n",
    "graph.add_edge(sam, decider)"
   ]
  },
  {
   "cell_type": "code",
   "execution_count": null,
   "metadata": {},
   "outputs": [],
   "source": [
    "# Define unlabeled dataset\n",
    "data = cuvis_ai.data.CuvisDataSet(base_path)"
   ]
  },
  {
   "cell_type": "code",
   "execution_count": null,
   "metadata": {},
   "outputs": [],
   "source": [
    "# Fit the graph using the first image\n",
    "graph.fit(*data[0:1])"
   ]
  },
  {
   "cell_type": "code",
   "execution_count": null,
   "metadata": {},
   "outputs": [],
   "source": [
    "# Generate gifs of session file classification\n",
    "for i in tqdm.tqdm(range(len(data))):\n",
    "    res_show, _, _ = graph.forward(*data[i:i+1])\n",
    "    plt.figure()\n",
    "    plt.imshow(res_show[0,:,:,:])  # Example plot\n",
    "    plt.title('CUVIS AI Classification')\n",
    "    filename = os.path.join(base_path\n",
    "    , f\"frame_{i}.png\")\n",
    "    plt.axis('off')\n",
    "    plt.savefig(filename)\n",
    "    plt.close()"
   ]
  },
  {
   "cell_type": "code",
   "execution_count": 14,
   "metadata": {},
   "outputs": [],
   "source": [
    "# Save as an animated GIF\n",
    "\n",
    "# Collect all the frames\n",
    "frames = []\n",
    "for i in range(len(data)):\n",
    "    filename = os.path.join(base_path, f\"frame_{i}.png\")\n",
    "    frames.append(Img.open(filename))\n",
    "    \n",
    "# Define save path\n",
    "gif_path = os.path.join(base_path, \"cuvis_fishtank_example_sam.gif\")\n",
    "frames[0].save(\n",
    "    gif_path,\n",
    "    save_all=True,\n",
    "    append_images=frames[1:],\n",
    "    duration=50,  # Duration between frames in milliseconds\n",
    "    loop=0  # Loop forever\n",
    ")\n"
   ]
  },
  {
   "cell_type": "code",
   "execution_count": null,
   "metadata": {},
   "outputs": [],
   "source": [
    "display(Image(filename=gif_path))"
   ]
  }
 ],
 "metadata": {
  "kernelspec": {
   "display_name": "Python 3",
   "language": "python",
   "name": "python3"
  },
  "language_info": {
   "codemirror_mode": {
    "name": "ipython",
    "version": 3
   },
   "file_extension": ".py",
   "mimetype": "text/x-python",
   "name": "python",
   "nbconvert_exporter": "python",
   "pygments_lexer": "ipython3",
   "version": "3.10.14"
  }
 },
 "nbformat": 4,
 "nbformat_minor": 2
}
