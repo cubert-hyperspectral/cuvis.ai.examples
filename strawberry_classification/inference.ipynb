{
 "cells": [
  {
   "cell_type": "code",
   "id": "initial_id",
   "metadata": {
    "collapsed": true,
    "ExecuteTime": {
     "end_time": "2025-08-01T10:42:23.266283Z",
     "start_time": "2025-08-01T10:42:20.960533Z"
    }
   },
   "source": [
    "import cuvis_ai\n",
    "import cuvis\n",
    "import yaml\n",
    "from UNet_2D import FreshTwin2DUNet\n",
    "import torch\n",
    "import numpy as np\n",
    "from torchvision.transforms import v2\n",
    "import cv2 as cv\n",
    "from pathlib import Path"
   ],
   "outputs": [],
   "execution_count": 1
  },
  {
   "metadata": {
    "ExecuteTime": {
     "end_time": "2025-08-01T10:42:23.273749Z",
     "start_time": "2025-08-01T10:42:23.267287Z"
    }
   },
   "cell_type": "code",
   "source": [
    "def remove_prefix(s, prefix):\n",
    "    if s.startswith(prefix):\n",
    "        return s[len(prefix):]\n",
    "    return s"
   ],
   "id": "f73ed9ba6ab90147",
   "outputs": [],
   "execution_count": 2
  },
  {
   "metadata": {
    "ExecuteTime": {
     "end_time": "2025-08-01T10:42:23.299454Z",
     "start_time": "2025-08-01T10:42:23.296318Z"
    }
   },
   "cell_type": "code",
   "source": [
    "CONF = 'UNet_train_config.yaml'\n",
    "WEIGHTS = 'Strawberry_3classes_UNet.ckpt'\n",
    "proc = None"
   ],
   "id": "44536800bf000da3",
   "outputs": [],
   "execution_count": 3
  },
  {
   "metadata": {},
   "cell_type": "markdown",
   "source": [
    "## Load Model\n",
    "\n",
    "First we create a cuvis.ai Graph using some the config parameters from our training."
   ],
   "id": "d9c97f588a57a7f"
  },
  {
   "metadata": {
    "ExecuteTime": {
     "end_time": "2025-08-01T12:26:08.195926Z",
     "start_time": "2025-08-01T12:26:08.083044Z"
    }
   },
   "cell_type": "code",
   "source": [
    "with open(CONF, 'r') as f:\n",
    "    config = yaml.safe_load(f)\n",
    "\n",
    "graph = cuvis_ai.pipeline.Graph('Strawberry_graph')\n",
    "\n",
    "Pca = cuvis_ai.preprocessor.PCA(config[\"pca_channels\"])\n",
    "sess = cuvis.SessionFile(str('D:/FreshTwin/swir/Strawberry_133_5_22_04_25.cu3s'))\n",
    "input_mesu = sess.get_measurement(0)\n",
    "\n",
    "if \"cube\" not in input_mesu.data:\n",
    "    if proc is None:\n",
    "        # create processing context only once if there are session files without cubes\n",
    "        proc = cuvis.ProcessingContext(sess)\n",
    "        if Path(config[\"white_path\"]).exists() and Path(config[\"dark_path\"]).exists():\n",
    "            proc.set_reference(cuvis.SessionFile(config[\"white_path\"]).get_measurement(0), cuvis.ReferenceType.White)\n",
    "            proc.set_reference(cuvis.SessionFile(config[\"dark_path\"]).get_measurement(0), cuvis.ReferenceType.Dark)\n",
    "            proc.processing_mode = cuvis.ProcessingMode.Reflectance\n",
    "    mesu = proc.apply(input_mesu)\n",
    "input_data = input_mesu.data[\"cube\"].array\n",
    "Pca.fit(input_data.astype(np.float16))\n",
    "modelNode = cuvis_ai.node.wrap.make_node(FreshTwin2DUNet)(\n",
    "    criterion=torch.nn.NLLLoss, num_classes=config[\"num_classes\"], in_channels=config[\"pca_channels\"])"
   ],
   "id": "865416eea442918f",
   "outputs": [],
   "execution_count": 33
  },
  {
   "metadata": {},
   "cell_type": "markdown",
   "source": [
    "## Create Pipeline\n",
    "\n",
    "Using some transformation nodes, a pipeline for data pre- and postprocessing is created"
   ],
   "id": "25354d15ac7f0d17"
  },
  {
   "metadata": {
    "ExecuteTime": {
     "end_time": "2025-08-01T12:26:09.434017Z",
     "start_time": "2025-08-01T12:26:09.424840Z"
    }
   },
   "cell_type": "code",
   "source": "graph = graph >> Pca >> modelNode",
   "id": "a00288caca1c343c",
   "outputs": [],
   "execution_count": 34
  },
  {
   "metadata": {},
   "cell_type": "markdown",
   "source": [
    "## Load checkpoint\n",
    "\n",
    "We can easily load the model we previously trained using `train.py` into our modelNode"
   ],
   "id": "7a7b8b6071a0d310"
  },
  {
   "metadata": {
    "ExecuteTime": {
     "end_time": "2025-08-01T12:26:09.983785Z",
     "start_time": "2025-08-01T12:26:09.834180Z"
    }
   },
   "cell_type": "code",
   "source": [
    "checkpoint = torch.load(WEIGHTS, weights_only=True)\n",
    "\n",
    "state_dict = {remove_prefix(\n",
    "    k, 'model.'): v for k, v in checkpoint['state_dict'].items()}\n",
    "\n",
    "modelNode.model.load_state_dict(state_dict)\n",
    "modelNode.initialized = True"
   ],
   "id": "dd7948b8b2873fcc",
   "outputs": [],
   "execution_count": 35
  },
  {
   "metadata": {},
   "cell_type": "markdown",
   "source": [
    "## Save cuvis.ai graph\n",
    "\n",
    "When saving the graph to disk, the whole pipeline and model code will be saved as well."
   ],
   "id": "d4fff5c7f90244a"
  },
  {
   "metadata": {
    "ExecuteTime": {
     "end_time": "2025-08-01T12:26:12.434092Z",
     "start_time": "2025-08-01T12:26:10.572222Z"
    }
   },
   "cell_type": "code",
   "source": "graph.save_to_file('Strawberry_Unet.ai')",
   "id": "77add2663c6240fd",
   "outputs": [
    {
     "name": "stdout",
     "output_type": "stream",
     "text": [
      "Project saved to Strawberry_Unet.ai\n"
     ]
    }
   ],
   "execution_count": 36
  },
  {
   "metadata": {},
   "cell_type": "markdown",
   "source": [
    "## Load cuvis.ai graph from file\n",
    "\n",
    "We can now load the zip file again into any project without having to worry about the model class being available there."
   ],
   "id": "fb03a6b9ee4f4abf"
  },
  {
   "metadata": {
    "ExecuteTime": {
     "end_time": "2025-08-01T12:26:12.759814Z",
     "start_time": "2025-08-01T12:26:12.513901Z"
    }
   },
   "cell_type": "code",
   "source": "loaded = cuvis_ai.pipeline.Graph.load_from_file('Strawberry_Unet.ai.zip')",
   "id": "c125c62f6a41afbe",
   "outputs": [
    {
     "ename": "AttributeError",
     "evalue": "module 'UNet_2D' has no attribute 'FreshTwin2DUNet'",
     "output_type": "error",
     "traceback": [
      "\u001B[31m---------------------------------------------------------------------------\u001B[39m",
      "\u001B[31mAttributeError\u001B[39m                            Traceback (most recent call last)",
      "\u001B[36mCell\u001B[39m\u001B[36m \u001B[39m\u001B[32mIn[37]\u001B[39m\u001B[32m, line 1\u001B[39m\n\u001B[32m----> \u001B[39m\u001B[32m1\u001B[39m loaded = \u001B[43mcuvis_ai\u001B[49m\u001B[43m.\u001B[49m\u001B[43mpipeline\u001B[49m\u001B[43m.\u001B[49m\u001B[43mGraph\u001B[49m\u001B[43m.\u001B[49m\u001B[43mload_from_file\u001B[49m\u001B[43m(\u001B[49m\u001B[33;43m'\u001B[39;49m\u001B[33;43mStrawberry_Unet.ai.zip\u001B[39;49m\u001B[33;43m'\u001B[39;49m\u001B[43m)\u001B[49m\n",
      "\u001B[36mFile \u001B[39m\u001B[32mC:\\dev\\cuvis.ai.examples\\venv\\Lib\\site-packages\\cuvis_ai\\pipeline\\graph.py:367\u001B[39m, in \u001B[36mGraph.load_from_file\u001B[39m\u001B[34m(cls, filepath)\u001B[39m\n\u001B[32m    364\u001B[39m         serial = YamlSerializer(tmpDir, \u001B[33m'\u001B[39m\u001B[33mmain\u001B[39m\u001B[33m'\u001B[39m)\n\u001B[32m    365\u001B[39m         graph_data = serial.load()\n\u001B[32m--> \u001B[39m\u001B[32m367\u001B[39m         \u001B[43mnew_graph\u001B[49m\u001B[43m.\u001B[49m\u001B[43mload\u001B[49m\u001B[43m(\u001B[49m\u001B[43mgraph_data\u001B[49m\u001B[43m,\u001B[49m\u001B[43m \u001B[49m\u001B[33;43m'\u001B[39;49m\u001B[33;43m.\u001B[39;49m\u001B[33;43m'\u001B[39;49m\u001B[43m)\u001B[49m\n\u001B[32m    368\u001B[39m \u001B[38;5;28;01mreturn\u001B[39;00m new_graph\n",
      "\u001B[36mFile \u001B[39m\u001B[32mC:\\dev\\cuvis.ai.examples\\venv\\Lib\\site-packages\\cuvis_ai\\pipeline\\graph.py:308\u001B[39m, in \u001B[36mGraph.load\u001B[39m\u001B[34m(self, structure, data_dir)\u001B[39m\n\u001B[32m    306\u001B[39m     sys.modules[node_module] = module\n\u001B[32m    307\u001B[39m     spec.loader.exec_module(module)\n\u001B[32m--> \u001B[39m\u001B[32m308\u001B[39m     \u001B[38;5;28mcls\u001B[39m = \u001B[38;5;28;43mgetattr\u001B[39;49m\u001B[43m(\u001B[49m\n\u001B[32m    309\u001B[39m \u001B[43m        \u001B[49m\u001B[43mmodule\u001B[49m\u001B[43m,\u001B[49m\u001B[43m \u001B[49m\u001B[43mnode_class\u001B[49m\u001B[43m)\u001B[49m\n\u001B[32m    310\u001B[39m \u001B[38;5;28;01melse\u001B[39;00m:\n\u001B[32m    311\u001B[39m     \u001B[38;5;28mcls\u001B[39m = \u001B[38;5;28mgetattr\u001B[39m(importlib.import_module(node_module), node_class)\n",
      "\u001B[31mAttributeError\u001B[39m: module 'UNet_2D' has no attribute 'FreshTwin2DUNet'"
     ]
    }
   ],
   "execution_count": 37
  },
  {
   "metadata": {},
   "cell_type": "markdown",
   "source": [
    "## Infer one cube\n",
    "\n",
    "Using the forward function of our graph we can now easily infer any cubert SessionFile that has the same dimensions as the ones we trained our model with. "
   ],
   "id": "a0fe5c0b25fb1530"
  },
  {
   "metadata": {
    "ExecuteTime": {
     "end_time": "2025-08-01T12:26:13.448637Z",
     "start_time": "2025-08-01T12:26:13.445074Z"
    }
   },
   "cell_type": "code",
   "source": "MESU = 'D:/FreshTwin/swir/Strawberry_133_5_22_04_25.cu3s' # TODO: change mesu",
   "id": "bbcbd29de1cf0708",
   "outputs": [],
   "execution_count": 38
  },
  {
   "metadata": {
    "ExecuteTime": {
     "end_time": "2025-08-01T12:26:14.494598Z",
     "start_time": "2025-08-01T12:26:14.092339Z"
    }
   },
   "cell_type": "code",
   "source": [
    "sess = cuvis.SessionFile(str(MESU))\n",
    "input_mesu = sess.get_measurement(0)\n",
    "\n",
    "if \"cube\" not in input_mesu.data:\n",
    "    if proc is None:\n",
    "        # create processing context only once if there are session files without cubes\n",
    "        proc = cuvis.ProcessingContext(sess)\n",
    "        if Path(config[\"white_path\"]).exists() and Path(config[\"dark_path\"]).exists():\n",
    "            proc.set_reference(cuvis.SessionFile(config[\"white_path\"]).get_measurement(0), cuvis.ReferenceType.White)\n",
    "            proc.set_reference(cuvis.SessionFile(config[\"dark_path\"]).get_measurement(0), cuvis.ReferenceType.Dark)\n",
    "            proc.processing_mode = cuvis.ProcessingMode.Reflectance\n",
    "    mesu = proc.apply(input_mesu)\n",
    "input_data = input_mesu.data[\"cube\"].array\n",
    "#graph.fit(input_data.astype(np.float32))\n",
    "output = graph.forward(torch.tensor(input_data.astype(np.float16)).unsqueeze(0)) "
   ],
   "id": "6dd52c2d3ccd660c",
   "outputs": [
    {
     "ename": "RuntimeError",
     "evalue": "Input type (double) and bias type (float) should be the same",
     "output_type": "error",
     "traceback": [
      "\u001B[31m---------------------------------------------------------------------------\u001B[39m",
      "\u001B[31mRuntimeError\u001B[39m                              Traceback (most recent call last)",
      "\u001B[36mCell\u001B[39m\u001B[36m \u001B[39m\u001B[32mIn[39]\u001B[39m\u001B[32m, line 15\u001B[39m\n\u001B[32m     13\u001B[39m input_data = input_mesu.data[\u001B[33m\"\u001B[39m\u001B[33mcube\u001B[39m\u001B[33m\"\u001B[39m].array\n\u001B[32m     14\u001B[39m \u001B[38;5;66;03m#graph.fit(input_data.astype(np.float32))\u001B[39;00m\n\u001B[32m---> \u001B[39m\u001B[32m15\u001B[39m output = \u001B[43mgraph\u001B[49m\u001B[43m.\u001B[49m\u001B[43mforward\u001B[49m\u001B[43m(\u001B[49m\u001B[43mtorch\u001B[49m\u001B[43m.\u001B[49m\u001B[43mtensor\u001B[49m\u001B[43m(\u001B[49m\u001B[43minput_data\u001B[49m\u001B[43m.\u001B[49m\u001B[43mastype\u001B[49m\u001B[43m(\u001B[49m\u001B[43mnp\u001B[49m\u001B[43m.\u001B[49m\u001B[43mfloat16\u001B[49m\u001B[43m)\u001B[49m\u001B[43m)\u001B[49m\u001B[43m.\u001B[49m\u001B[43munsqueeze\u001B[49m\u001B[43m(\u001B[49m\u001B[32;43m0\u001B[39;49m\u001B[43m)\u001B[49m\u001B[43m)\u001B[49m \u001B[38;5;66;03m# TODO: check if i need to transform this\u001B[39;00m\n",
      "\u001B[36mFile \u001B[39m\u001B[32mC:\\dev\\cuvis.ai.examples\\venv\\Lib\\site-packages\\cuvis_ai\\pipeline\\graph.py:389\u001B[39m, in \u001B[36mGraph.forward\u001B[39m\u001B[34m(self, X, Y, M, backend)\u001B[39m\n\u001B[32m    387\u001B[39m \u001B[38;5;28;01melse\u001B[39;00m:\n\u001B[32m    388\u001B[39m     \u001B[38;5;28;01mraise\u001B[39;00m \u001B[38;5;167;01mValueError\u001B[39;00m(\u001B[33m\"\u001B[39m\u001B[33mUnknown Backend\u001B[39m\u001B[33m\"\u001B[39m)\n\u001B[32m--> \u001B[39m\u001B[32m389\u001B[39m \u001B[38;5;28;01mreturn\u001B[39;00m \u001B[43mexecutor\u001B[49m\u001B[43m.\u001B[49m\u001B[43mforward\u001B[49m\u001B[43m(\u001B[49m\u001B[43mX\u001B[49m\u001B[43m,\u001B[49m\u001B[43m \u001B[49m\u001B[43mY\u001B[49m\u001B[43m,\u001B[49m\u001B[43m \u001B[49m\u001B[43mM\u001B[49m\u001B[43m)\u001B[49m\n",
      "\u001B[36mFile \u001B[39m\u001B[32mC:\\dev\\cuvis.ai.examples\\venv\\Lib\\site-packages\\cuvis_ai\\pipeline\\executor.py:49\u001B[39m, in \u001B[36mMemoryExecutor.forward\u001B[39m\u001B[34m(self, X, Y, M)\u001B[39m\n\u001B[32m     45\u001B[39m intermediary[\u001B[38;5;28mself\u001B[39m.entry_point], intermediary_labels[\u001B[38;5;28mself\u001B[39m.entry_point], intermediary_metas[\u001B[38;5;28mself\u001B[39m.entry_point] = \u001B[38;5;28mself\u001B[39m.forward_node(\n\u001B[32m     46\u001B[39m     \u001B[38;5;28mself\u001B[39m.nodes[\u001B[38;5;28mself\u001B[39m.entry_point], xs, ys, ms)\n\u001B[32m     48\u001B[39m \u001B[38;5;28;01mfor\u001B[39;00m node \u001B[38;5;129;01min\u001B[39;00m sorted_graph[\u001B[32m1\u001B[39m:]:\n\u001B[32m---> \u001B[39m\u001B[32m49\u001B[39m     \u001B[38;5;28;43mself\u001B[39;49m\u001B[43m.\u001B[49m\u001B[43m_forward_helper\u001B[49m\u001B[43m(\u001B[49m\u001B[43mnode\u001B[49m\u001B[43m,\u001B[49m\u001B[43m \u001B[49m\u001B[43mintermediary\u001B[49m\u001B[43m,\u001B[49m\n\u001B[32m     50\u001B[39m \u001B[43m                         \u001B[49m\u001B[43mintermediary_labels\u001B[49m\u001B[43m,\u001B[49m\u001B[43m \u001B[49m\u001B[43mintermediary_metas\u001B[49m\u001B[43m)\u001B[49m\n\u001B[32m     52\u001B[39m results = intermediary[sorted_graph[-\u001B[32m1\u001B[39m]]\n\u001B[32m     53\u001B[39m \u001B[38;5;28;01mreturn\u001B[39;00m results\n",
      "\u001B[36mFile \u001B[39m\u001B[32mC:\\dev\\cuvis.ai.examples\\venv\\Lib\\site-packages\\cuvis_ai\\pipeline\\executor.py:89\u001B[39m, in \u001B[36mMemoryExecutor._forward_helper\u001B[39m\u001B[34m(self, current, intermediary, intermediary_labels, intermediary_metas)\u001B[39m\n\u001B[32m     86\u001B[39m \u001B[38;5;28;01melse\u001B[39;00m:\n\u001B[32m     87\u001B[39m     use_metas = []\n\u001B[32m---> \u001B[39m\u001B[32m89\u001B[39m intermediary[current], intermediary_labels[current], intermediary_metas[current] = \u001B[38;5;28;43mself\u001B[39;49m\u001B[43m.\u001B[49m\u001B[43mforward_node\u001B[49m\u001B[43m(\u001B[49m\n\u001B[32m     90\u001B[39m \u001B[43m    \u001B[49m\u001B[38;5;28;43mself\u001B[39;49m\u001B[43m.\u001B[49m\u001B[43mnodes\u001B[49m\u001B[43m[\u001B[49m\u001B[43mcurrent\u001B[49m\u001B[43m]\u001B[49m\u001B[43m,\u001B[49m\u001B[43m \u001B[49m\u001B[43muse_prods\u001B[49m\u001B[43m,\u001B[49m\u001B[43m \u001B[49m\u001B[43muse_labels\u001B[49m\u001B[43m,\u001B[49m\u001B[43m \u001B[49m\u001B[43muse_metas\u001B[49m\u001B[43m)\u001B[49m\n\u001B[32m     92\u001B[39m \u001B[38;5;28;01mif\u001B[39;00m \u001B[38;5;28mself\u001B[39m._not_needed_anymore(current, intermediary):\n\u001B[32m     93\u001B[39m     \u001B[38;5;66;03m# Free memory that is not needed for the current passthrough anymore\u001B[39;00m\n\u001B[32m     94\u001B[39m     intermediary.pop(current)\n",
      "\u001B[36mFile \u001B[39m\u001B[32mC:\\dev\\cuvis.ai.examples\\venv\\Lib\\site-packages\\cuvis_ai\\pipeline\\executor.py:122\u001B[39m, in \u001B[36mMemoryExecutor.forward_node\u001B[39m\u001B[34m(self, node, data, labels, metadata)\u001B[39m\n\u001B[32m    120\u001B[39m     out = node.forward(data, **additional_meta)\n\u001B[32m    121\u001B[39m \u001B[38;5;28;01melse\u001B[39;00m:\n\u001B[32m--> \u001B[39m\u001B[32m122\u001B[39m     out = \u001B[43mnode\u001B[49m\u001B[43m.\u001B[49m\u001B[43mforward\u001B[49m\u001B[43m(\u001B[49m\u001B[43mdata\u001B[49m\u001B[43m)\u001B[49m\n\u001B[32m    123\u001B[39m \u001B[38;5;28;01mif\u001B[39;00m \u001B[38;5;28misinstance\u001B[39m(out, Tuple):\n\u001B[32m    124\u001B[39m     \u001B[38;5;28;01mreturn\u001B[39;00m out\n",
      "\u001B[36mFile \u001B[39m\u001B[32mC:\\dev\\cuvis.ai.examples\\venv\\Lib\\site-packages\\cuvis_ai\\node\\skorch.py:218\u001B[39m, in \u001B[36m_wrap_unsupervised_class.<locals>.SkorchWrappedUnsupervised.forward\u001B[39m\u001B[34m(self, X)\u001B[39m\n\u001B[32m    216\u001B[39m flattened_data = torch.from_numpy(flattened_data)\n\u001B[32m    217\u001B[39m start_time = time.time()\n\u001B[32m--> \u001B[39m\u001B[32m218\u001B[39m transformed_data = \u001B[38;5;28;43mself\u001B[39;49m\u001B[43m.\u001B[49m\u001B[43mnet\u001B[49m\u001B[43m.\u001B[49m\u001B[43mforward\u001B[49m\u001B[43m(\u001B[49m\u001B[43mflattened_data\u001B[49m\u001B[43m)\u001B[49m\n\u001B[32m    219\u001B[39m \u001B[38;5;28mprint\u001B[39m(\u001B[33m\"\u001B[39m\u001B[33m--- \u001B[39m\u001B[38;5;132;01m%s\u001B[39;00m\u001B[33m seconds ---\u001B[39m\u001B[33m\"\u001B[39m % (time.time() - start_time))\n\u001B[32m    220\u001B[39m transformed_data = transformed_data.to(\u001B[33m'\u001B[39m\u001B[33mcpu\u001B[39m\u001B[33m'\u001B[39m).numpy()\n",
      "\u001B[36mFile \u001B[39m\u001B[32mC:\\dev\\cuvis.ai.examples\\venv\\Lib\\site-packages\\skorch\\net.py:1516\u001B[39m, in \u001B[36mNeuralNet.forward\u001B[39m\u001B[34m(self, X, training, device)\u001B[39m\n\u001B[32m   1474\u001B[39m \u001B[38;5;28;01mdef\u001B[39;00m\u001B[38;5;250m \u001B[39m\u001B[34mforward\u001B[39m(\u001B[38;5;28mself\u001B[39m, X, training=\u001B[38;5;28;01mFalse\u001B[39;00m, device=\u001B[33m'\u001B[39m\u001B[33mcpu\u001B[39m\u001B[33m'\u001B[39m):\n\u001B[32m   1475\u001B[39m \u001B[38;5;250m    \u001B[39m\u001B[33;03m\"\"\"Gather and concatenate the output from forward call with\u001B[39;00m\n\u001B[32m   1476\u001B[39m \u001B[33;03m    input data.\u001B[39;00m\n\u001B[32m   1477\u001B[39m \n\u001B[32m   (...)\u001B[39m\u001B[32m   1514\u001B[39m \n\u001B[32m   1515\u001B[39m \u001B[33;03m    \"\"\"\u001B[39;00m\n\u001B[32m-> \u001B[39m\u001B[32m1516\u001B[39m     y_infer = \u001B[38;5;28;43mlist\u001B[39;49m\u001B[43m(\u001B[49m\u001B[38;5;28;43mself\u001B[39;49m\u001B[43m.\u001B[49m\u001B[43mforward_iter\u001B[49m\u001B[43m(\u001B[49m\u001B[43mX\u001B[49m\u001B[43m,\u001B[49m\u001B[43m \u001B[49m\u001B[43mtraining\u001B[49m\u001B[43m=\u001B[49m\u001B[43mtraining\u001B[49m\u001B[43m,\u001B[49m\u001B[43m \u001B[49m\u001B[43mdevice\u001B[49m\u001B[43m=\u001B[49m\u001B[43mdevice\u001B[49m\u001B[43m)\u001B[49m\u001B[43m)\u001B[49m\n\u001B[32m   1518\u001B[39m     is_multioutput = \u001B[38;5;28mlen\u001B[39m(y_infer) > \u001B[32m0\u001B[39m \u001B[38;5;129;01mand\u001B[39;00m \u001B[38;5;28misinstance\u001B[39m(y_infer[\u001B[32m0\u001B[39m], \u001B[38;5;28mtuple\u001B[39m)\n\u001B[32m   1519\u001B[39m     \u001B[38;5;28;01mif\u001B[39;00m is_multioutput:\n",
      "\u001B[36mFile \u001B[39m\u001B[32mC:\\dev\\cuvis.ai.examples\\venv\\Lib\\site-packages\\skorch\\net.py:1471\u001B[39m, in \u001B[36mNeuralNet.forward_iter\u001B[39m\u001B[34m(self, X, training, device)\u001B[39m\n\u001B[32m   1469\u001B[39m iterator = \u001B[38;5;28mself\u001B[39m.get_iterator(dataset, training=training)\n\u001B[32m   1470\u001B[39m \u001B[38;5;28;01mfor\u001B[39;00m batch \u001B[38;5;129;01min\u001B[39;00m iterator:\n\u001B[32m-> \u001B[39m\u001B[32m1471\u001B[39m     yp = \u001B[38;5;28;43mself\u001B[39;49m\u001B[43m.\u001B[49m\u001B[43mevaluation_step\u001B[49m\u001B[43m(\u001B[49m\u001B[43mbatch\u001B[49m\u001B[43m,\u001B[49m\u001B[43m \u001B[49m\u001B[43mtraining\u001B[49m\u001B[43m=\u001B[49m\u001B[43mtraining\u001B[49m\u001B[43m)\u001B[49m\n\u001B[32m   1472\u001B[39m     \u001B[38;5;28;01myield\u001B[39;00m to_device(yp, device=device)\n",
      "\u001B[36mFile \u001B[39m\u001B[32mC:\\dev\\cuvis.ai.examples\\venv\\Lib\\site-packages\\skorch\\net.py:1164\u001B[39m, in \u001B[36mNeuralNet.evaluation_step\u001B[39m\u001B[34m(self, batch, training)\u001B[39m\n\u001B[32m   1162\u001B[39m \u001B[38;5;28;01mwith\u001B[39;00m torch.set_grad_enabled(training):\n\u001B[32m   1163\u001B[39m     \u001B[38;5;28mself\u001B[39m._set_training(training)\n\u001B[32m-> \u001B[39m\u001B[32m1164\u001B[39m     \u001B[38;5;28;01mreturn\u001B[39;00m \u001B[38;5;28;43mself\u001B[39;49m\u001B[43m.\u001B[49m\u001B[43minfer\u001B[49m\u001B[43m(\u001B[49m\u001B[43mXi\u001B[49m\u001B[43m)\u001B[49m\n",
      "\u001B[36mFile \u001B[39m\u001B[32mC:\\dev\\cuvis.ai.examples\\venv\\Lib\\site-packages\\skorch\\net.py:1551\u001B[39m, in \u001B[36mNeuralNet.infer\u001B[39m\u001B[34m(self, x, **fit_params)\u001B[39m\n\u001B[32m   1549\u001B[39m     x_dict = \u001B[38;5;28mself\u001B[39m._merge_x_and_fit_params(x, fit_params)\n\u001B[32m   1550\u001B[39m     \u001B[38;5;28;01mreturn\u001B[39;00m \u001B[38;5;28mself\u001B[39m.module_(**x_dict)\n\u001B[32m-> \u001B[39m\u001B[32m1551\u001B[39m \u001B[38;5;28;01mreturn\u001B[39;00m \u001B[38;5;28;43mself\u001B[39;49m\u001B[43m.\u001B[49m\u001B[43mmodule_\u001B[49m\u001B[43m(\u001B[49m\u001B[43mx\u001B[49m\u001B[43m,\u001B[49m\u001B[43m \u001B[49m\u001B[43m*\u001B[49m\u001B[43m*\u001B[49m\u001B[43mfit_params\u001B[49m\u001B[43m)\u001B[49m\n",
      "\u001B[36mFile \u001B[39m\u001B[32mC:\\dev\\cuvis.ai.examples\\venv\\Lib\\site-packages\\torch\\nn\\modules\\module.py:1739\u001B[39m, in \u001B[36mModule._wrapped_call_impl\u001B[39m\u001B[34m(self, *args, **kwargs)\u001B[39m\n\u001B[32m   1737\u001B[39m     \u001B[38;5;28;01mreturn\u001B[39;00m \u001B[38;5;28mself\u001B[39m._compiled_call_impl(*args, **kwargs)  \u001B[38;5;66;03m# type: ignore[misc]\u001B[39;00m\n\u001B[32m   1738\u001B[39m \u001B[38;5;28;01melse\u001B[39;00m:\n\u001B[32m-> \u001B[39m\u001B[32m1739\u001B[39m     \u001B[38;5;28;01mreturn\u001B[39;00m \u001B[38;5;28;43mself\u001B[39;49m\u001B[43m.\u001B[49m\u001B[43m_call_impl\u001B[49m\u001B[43m(\u001B[49m\u001B[43m*\u001B[49m\u001B[43margs\u001B[49m\u001B[43m,\u001B[49m\u001B[43m \u001B[49m\u001B[43m*\u001B[49m\u001B[43m*\u001B[49m\u001B[43mkwargs\u001B[49m\u001B[43m)\u001B[49m\n",
      "\u001B[36mFile \u001B[39m\u001B[32mC:\\dev\\cuvis.ai.examples\\venv\\Lib\\site-packages\\torch\\nn\\modules\\module.py:1750\u001B[39m, in \u001B[36mModule._call_impl\u001B[39m\u001B[34m(self, *args, **kwargs)\u001B[39m\n\u001B[32m   1745\u001B[39m \u001B[38;5;66;03m# If we don't have any hooks, we want to skip the rest of the logic in\u001B[39;00m\n\u001B[32m   1746\u001B[39m \u001B[38;5;66;03m# this function, and just call forward.\u001B[39;00m\n\u001B[32m   1747\u001B[39m \u001B[38;5;28;01mif\u001B[39;00m \u001B[38;5;129;01mnot\u001B[39;00m (\u001B[38;5;28mself\u001B[39m._backward_hooks \u001B[38;5;129;01mor\u001B[39;00m \u001B[38;5;28mself\u001B[39m._backward_pre_hooks \u001B[38;5;129;01mor\u001B[39;00m \u001B[38;5;28mself\u001B[39m._forward_hooks \u001B[38;5;129;01mor\u001B[39;00m \u001B[38;5;28mself\u001B[39m._forward_pre_hooks\n\u001B[32m   1748\u001B[39m         \u001B[38;5;129;01mor\u001B[39;00m _global_backward_pre_hooks \u001B[38;5;129;01mor\u001B[39;00m _global_backward_hooks\n\u001B[32m   1749\u001B[39m         \u001B[38;5;129;01mor\u001B[39;00m _global_forward_hooks \u001B[38;5;129;01mor\u001B[39;00m _global_forward_pre_hooks):\n\u001B[32m-> \u001B[39m\u001B[32m1750\u001B[39m     \u001B[38;5;28;01mreturn\u001B[39;00m \u001B[43mforward_call\u001B[49m\u001B[43m(\u001B[49m\u001B[43m*\u001B[49m\u001B[43margs\u001B[49m\u001B[43m,\u001B[49m\u001B[43m \u001B[49m\u001B[43m*\u001B[49m\u001B[43m*\u001B[49m\u001B[43mkwargs\u001B[49m\u001B[43m)\u001B[49m\n\u001B[32m   1752\u001B[39m result = \u001B[38;5;28;01mNone\u001B[39;00m\n\u001B[32m   1753\u001B[39m called_always_called_hooks = \u001B[38;5;28mset\u001B[39m()\n",
      "\u001B[36mFile \u001B[39m\u001B[32mC:\\dev\\cuvis.ai.examples\\strawberry_classification\\UNet_2D.py:82\u001B[39m, in \u001B[36mFreshTwin2DUNet.forward\u001B[39m\u001B[34m(self, x)\u001B[39m\n\u001B[32m     80\u001B[39m \u001B[38;5;28;01mdef\u001B[39;00m\u001B[38;5;250m \u001B[39m\u001B[34mforward\u001B[39m(\u001B[38;5;28mself\u001B[39m, x):\n\u001B[32m     81\u001B[39m     \u001B[38;5;66;03m# Encoder\u001B[39;00m\n\u001B[32m---> \u001B[39m\u001B[32m82\u001B[39m     c1 = \u001B[38;5;28;43mself\u001B[39;49m\u001B[43m.\u001B[49m\u001B[43mconv1\u001B[49m\u001B[43m(\u001B[49m\u001B[43mx\u001B[49m\u001B[43m)\u001B[49m\n\u001B[32m     83\u001B[39m     p1 = \u001B[38;5;28mself\u001B[39m.pool1(c1)\n\u001B[32m     85\u001B[39m     c2 = \u001B[38;5;28mself\u001B[39m.conv2(p1)\n",
      "\u001B[36mFile \u001B[39m\u001B[32mC:\\dev\\cuvis.ai.examples\\venv\\Lib\\site-packages\\torch\\nn\\modules\\module.py:1739\u001B[39m, in \u001B[36mModule._wrapped_call_impl\u001B[39m\u001B[34m(self, *args, **kwargs)\u001B[39m\n\u001B[32m   1737\u001B[39m     \u001B[38;5;28;01mreturn\u001B[39;00m \u001B[38;5;28mself\u001B[39m._compiled_call_impl(*args, **kwargs)  \u001B[38;5;66;03m# type: ignore[misc]\u001B[39;00m\n\u001B[32m   1738\u001B[39m \u001B[38;5;28;01melse\u001B[39;00m:\n\u001B[32m-> \u001B[39m\u001B[32m1739\u001B[39m     \u001B[38;5;28;01mreturn\u001B[39;00m \u001B[38;5;28;43mself\u001B[39;49m\u001B[43m.\u001B[49m\u001B[43m_call_impl\u001B[49m\u001B[43m(\u001B[49m\u001B[43m*\u001B[49m\u001B[43margs\u001B[49m\u001B[43m,\u001B[49m\u001B[43m \u001B[49m\u001B[43m*\u001B[49m\u001B[43m*\u001B[49m\u001B[43mkwargs\u001B[49m\u001B[43m)\u001B[49m\n",
      "\u001B[36mFile \u001B[39m\u001B[32mC:\\dev\\cuvis.ai.examples\\venv\\Lib\\site-packages\\torch\\nn\\modules\\module.py:1750\u001B[39m, in \u001B[36mModule._call_impl\u001B[39m\u001B[34m(self, *args, **kwargs)\u001B[39m\n\u001B[32m   1745\u001B[39m \u001B[38;5;66;03m# If we don't have any hooks, we want to skip the rest of the logic in\u001B[39;00m\n\u001B[32m   1746\u001B[39m \u001B[38;5;66;03m# this function, and just call forward.\u001B[39;00m\n\u001B[32m   1747\u001B[39m \u001B[38;5;28;01mif\u001B[39;00m \u001B[38;5;129;01mnot\u001B[39;00m (\u001B[38;5;28mself\u001B[39m._backward_hooks \u001B[38;5;129;01mor\u001B[39;00m \u001B[38;5;28mself\u001B[39m._backward_pre_hooks \u001B[38;5;129;01mor\u001B[39;00m \u001B[38;5;28mself\u001B[39m._forward_hooks \u001B[38;5;129;01mor\u001B[39;00m \u001B[38;5;28mself\u001B[39m._forward_pre_hooks\n\u001B[32m   1748\u001B[39m         \u001B[38;5;129;01mor\u001B[39;00m _global_backward_pre_hooks \u001B[38;5;129;01mor\u001B[39;00m _global_backward_hooks\n\u001B[32m   1749\u001B[39m         \u001B[38;5;129;01mor\u001B[39;00m _global_forward_hooks \u001B[38;5;129;01mor\u001B[39;00m _global_forward_pre_hooks):\n\u001B[32m-> \u001B[39m\u001B[32m1750\u001B[39m     \u001B[38;5;28;01mreturn\u001B[39;00m \u001B[43mforward_call\u001B[49m\u001B[43m(\u001B[49m\u001B[43m*\u001B[49m\u001B[43margs\u001B[49m\u001B[43m,\u001B[49m\u001B[43m \u001B[49m\u001B[43m*\u001B[49m\u001B[43m*\u001B[49m\u001B[43mkwargs\u001B[49m\u001B[43m)\u001B[49m\n\u001B[32m   1752\u001B[39m result = \u001B[38;5;28;01mNone\u001B[39;00m\n\u001B[32m   1753\u001B[39m called_always_called_hooks = \u001B[38;5;28mset\u001B[39m()\n",
      "\u001B[36mFile \u001B[39m\u001B[32mC:\\dev\\cuvis.ai.examples\\venv\\Lib\\site-packages\\torch\\nn\\modules\\container.py:250\u001B[39m, in \u001B[36mSequential.forward\u001B[39m\u001B[34m(self, input)\u001B[39m\n\u001B[32m    248\u001B[39m \u001B[38;5;28;01mdef\u001B[39;00m\u001B[38;5;250m \u001B[39m\u001B[34mforward\u001B[39m(\u001B[38;5;28mself\u001B[39m, \u001B[38;5;28minput\u001B[39m):\n\u001B[32m    249\u001B[39m     \u001B[38;5;28;01mfor\u001B[39;00m module \u001B[38;5;129;01min\u001B[39;00m \u001B[38;5;28mself\u001B[39m:\n\u001B[32m--> \u001B[39m\u001B[32m250\u001B[39m         \u001B[38;5;28minput\u001B[39m = \u001B[43mmodule\u001B[49m\u001B[43m(\u001B[49m\u001B[38;5;28;43minput\u001B[39;49m\u001B[43m)\u001B[49m\n\u001B[32m    251\u001B[39m     \u001B[38;5;28;01mreturn\u001B[39;00m \u001B[38;5;28minput\u001B[39m\n",
      "\u001B[36mFile \u001B[39m\u001B[32mC:\\dev\\cuvis.ai.examples\\venv\\Lib\\site-packages\\torch\\nn\\modules\\module.py:1739\u001B[39m, in \u001B[36mModule._wrapped_call_impl\u001B[39m\u001B[34m(self, *args, **kwargs)\u001B[39m\n\u001B[32m   1737\u001B[39m     \u001B[38;5;28;01mreturn\u001B[39;00m \u001B[38;5;28mself\u001B[39m._compiled_call_impl(*args, **kwargs)  \u001B[38;5;66;03m# type: ignore[misc]\u001B[39;00m\n\u001B[32m   1738\u001B[39m \u001B[38;5;28;01melse\u001B[39;00m:\n\u001B[32m-> \u001B[39m\u001B[32m1739\u001B[39m     \u001B[38;5;28;01mreturn\u001B[39;00m \u001B[38;5;28;43mself\u001B[39;49m\u001B[43m.\u001B[49m\u001B[43m_call_impl\u001B[49m\u001B[43m(\u001B[49m\u001B[43m*\u001B[49m\u001B[43margs\u001B[49m\u001B[43m,\u001B[49m\u001B[43m \u001B[49m\u001B[43m*\u001B[49m\u001B[43m*\u001B[49m\u001B[43mkwargs\u001B[49m\u001B[43m)\u001B[49m\n",
      "\u001B[36mFile \u001B[39m\u001B[32mC:\\dev\\cuvis.ai.examples\\venv\\Lib\\site-packages\\torch\\nn\\modules\\module.py:1750\u001B[39m, in \u001B[36mModule._call_impl\u001B[39m\u001B[34m(self, *args, **kwargs)\u001B[39m\n\u001B[32m   1745\u001B[39m \u001B[38;5;66;03m# If we don't have any hooks, we want to skip the rest of the logic in\u001B[39;00m\n\u001B[32m   1746\u001B[39m \u001B[38;5;66;03m# this function, and just call forward.\u001B[39;00m\n\u001B[32m   1747\u001B[39m \u001B[38;5;28;01mif\u001B[39;00m \u001B[38;5;129;01mnot\u001B[39;00m (\u001B[38;5;28mself\u001B[39m._backward_hooks \u001B[38;5;129;01mor\u001B[39;00m \u001B[38;5;28mself\u001B[39m._backward_pre_hooks \u001B[38;5;129;01mor\u001B[39;00m \u001B[38;5;28mself\u001B[39m._forward_hooks \u001B[38;5;129;01mor\u001B[39;00m \u001B[38;5;28mself\u001B[39m._forward_pre_hooks\n\u001B[32m   1748\u001B[39m         \u001B[38;5;129;01mor\u001B[39;00m _global_backward_pre_hooks \u001B[38;5;129;01mor\u001B[39;00m _global_backward_hooks\n\u001B[32m   1749\u001B[39m         \u001B[38;5;129;01mor\u001B[39;00m _global_forward_hooks \u001B[38;5;129;01mor\u001B[39;00m _global_forward_pre_hooks):\n\u001B[32m-> \u001B[39m\u001B[32m1750\u001B[39m     \u001B[38;5;28;01mreturn\u001B[39;00m \u001B[43mforward_call\u001B[49m\u001B[43m(\u001B[49m\u001B[43m*\u001B[49m\u001B[43margs\u001B[49m\u001B[43m,\u001B[49m\u001B[43m \u001B[49m\u001B[43m*\u001B[49m\u001B[43m*\u001B[49m\u001B[43mkwargs\u001B[49m\u001B[43m)\u001B[49m\n\u001B[32m   1752\u001B[39m result = \u001B[38;5;28;01mNone\u001B[39;00m\n\u001B[32m   1753\u001B[39m called_always_called_hooks = \u001B[38;5;28mset\u001B[39m()\n",
      "\u001B[36mFile \u001B[39m\u001B[32mC:\\dev\\cuvis.ai.examples\\venv\\Lib\\site-packages\\torch\\nn\\modules\\conv.py:554\u001B[39m, in \u001B[36mConv2d.forward\u001B[39m\u001B[34m(self, input)\u001B[39m\n\u001B[32m    553\u001B[39m \u001B[38;5;28;01mdef\u001B[39;00m\u001B[38;5;250m \u001B[39m\u001B[34mforward\u001B[39m(\u001B[38;5;28mself\u001B[39m, \u001B[38;5;28minput\u001B[39m: Tensor) -> Tensor:\n\u001B[32m--> \u001B[39m\u001B[32m554\u001B[39m     \u001B[38;5;28;01mreturn\u001B[39;00m \u001B[38;5;28;43mself\u001B[39;49m\u001B[43m.\u001B[49m\u001B[43m_conv_forward\u001B[49m\u001B[43m(\u001B[49m\u001B[38;5;28;43minput\u001B[39;49m\u001B[43m,\u001B[49m\u001B[43m \u001B[49m\u001B[38;5;28;43mself\u001B[39;49m\u001B[43m.\u001B[49m\u001B[43mweight\u001B[49m\u001B[43m,\u001B[49m\u001B[43m \u001B[49m\u001B[38;5;28;43mself\u001B[39;49m\u001B[43m.\u001B[49m\u001B[43mbias\u001B[49m\u001B[43m)\u001B[49m\n",
      "\u001B[36mFile \u001B[39m\u001B[32mC:\\dev\\cuvis.ai.examples\\venv\\Lib\\site-packages\\torch\\nn\\modules\\conv.py:549\u001B[39m, in \u001B[36mConv2d._conv_forward\u001B[39m\u001B[34m(self, input, weight, bias)\u001B[39m\n\u001B[32m    537\u001B[39m \u001B[38;5;28;01mif\u001B[39;00m \u001B[38;5;28mself\u001B[39m.padding_mode != \u001B[33m\"\u001B[39m\u001B[33mzeros\u001B[39m\u001B[33m\"\u001B[39m:\n\u001B[32m    538\u001B[39m     \u001B[38;5;28;01mreturn\u001B[39;00m F.conv2d(\n\u001B[32m    539\u001B[39m         F.pad(\n\u001B[32m    540\u001B[39m             \u001B[38;5;28minput\u001B[39m, \u001B[38;5;28mself\u001B[39m._reversed_padding_repeated_twice, mode=\u001B[38;5;28mself\u001B[39m.padding_mode\n\u001B[32m   (...)\u001B[39m\u001B[32m    547\u001B[39m         \u001B[38;5;28mself\u001B[39m.groups,\n\u001B[32m    548\u001B[39m     )\n\u001B[32m--> \u001B[39m\u001B[32m549\u001B[39m \u001B[38;5;28;01mreturn\u001B[39;00m \u001B[43mF\u001B[49m\u001B[43m.\u001B[49m\u001B[43mconv2d\u001B[49m\u001B[43m(\u001B[49m\n\u001B[32m    550\u001B[39m \u001B[43m    \u001B[49m\u001B[38;5;28;43minput\u001B[39;49m\u001B[43m,\u001B[49m\u001B[43m \u001B[49m\u001B[43mweight\u001B[49m\u001B[43m,\u001B[49m\u001B[43m \u001B[49m\u001B[43mbias\u001B[49m\u001B[43m,\u001B[49m\u001B[43m \u001B[49m\u001B[38;5;28;43mself\u001B[39;49m\u001B[43m.\u001B[49m\u001B[43mstride\u001B[49m\u001B[43m,\u001B[49m\u001B[43m \u001B[49m\u001B[38;5;28;43mself\u001B[39;49m\u001B[43m.\u001B[49m\u001B[43mpadding\u001B[49m\u001B[43m,\u001B[49m\u001B[43m \u001B[49m\u001B[38;5;28;43mself\u001B[39;49m\u001B[43m.\u001B[49m\u001B[43mdilation\u001B[49m\u001B[43m,\u001B[49m\u001B[43m \u001B[49m\u001B[38;5;28;43mself\u001B[39;49m\u001B[43m.\u001B[49m\u001B[43mgroups\u001B[49m\n\u001B[32m    551\u001B[39m \u001B[43m\u001B[49m\u001B[43m)\u001B[49m\n",
      "\u001B[31mRuntimeError\u001B[39m: Input type (double) and bias type (float) should be the same"
     ]
    }
   ],
   "execution_count": 39
  },
  {
   "metadata": {},
   "cell_type": "markdown",
   "source": "## Display the result",
   "id": "1630f2c54905caa0"
  },
  {
   "metadata": {},
   "cell_type": "code",
   "outputs": [],
   "execution_count": null,
   "source": [
    "cv.imshow(\"input RGB\", cv.resize(cv.normalize(input_data[config[\"cube_rgb_channels\"]], None, 0, 255, cv.NORM_MINMAX, 0), (400, 400)))\n",
    "cv.imshow(\"output\", cv.resize(cv.normalize(output[0], None, 255, 0, cv.NORM_MINMAX, 0), (400, 400)))\n",
    "\n",
    "cv.waitKey(-1)\n",
    "cv.destroyAllWindows()"
   ],
   "id": "ac58113cde4d7576"
  },
  {
   "metadata": {},
   "cell_type": "code",
   "outputs": [],
   "execution_count": null,
   "source": "",
   "id": "a415a5e70d513e57"
  }
 ],
 "metadata": {
  "kernelspec": {
   "display_name": "Python 3",
   "language": "python",
   "name": "python3"
  },
  "language_info": {
   "codemirror_mode": {
    "name": "ipython",
    "version": 2
   },
   "file_extension": ".py",
   "mimetype": "text/x-python",
   "name": "python",
   "nbconvert_exporter": "python",
   "pygments_lexer": "ipython2",
   "version": "2.7.6"
  }
 },
 "nbformat": 4,
 "nbformat_minor": 5
}
