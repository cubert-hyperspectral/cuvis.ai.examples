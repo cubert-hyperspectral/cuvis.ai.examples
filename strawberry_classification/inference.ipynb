{
 "cells": [
  {
   "cell_type": "code",
   "id": "initial_id",
   "metadata": {
    "collapsed": true,
    "ExecuteTime": {
     "end_time": "2025-08-04T06:55:22.773651Z",
     "start_time": "2025-08-04T06:55:20.585254Z"
    }
   },
   "source": [
    "import cuvis_ai\n",
    "import cuvis\n",
    "import yaml\n",
    "from UNet_2D import FreshTwin2DUNet\n",
    "import torch\n",
    "import numpy as np\n",
    "from torchvision.transforms import v2\n",
    "import cv2 as cv\n",
    "from pathlib import Path"
   ],
   "outputs": [],
   "execution_count": 1
  },
  {
   "metadata": {
    "ExecuteTime": {
     "end_time": "2025-08-04T06:55:22.780778Z",
     "start_time": "2025-08-04T06:55:22.773651Z"
    }
   },
   "cell_type": "code",
   "source": [
    "def remove_prefix(s, prefix):\n",
    "    if s.startswith(prefix):\n",
    "        return s[len(prefix):]\n",
    "    return s"
   ],
   "id": "f73ed9ba6ab90147",
   "outputs": [],
   "execution_count": 2
  },
  {
   "metadata": {
    "ExecuteTime": {
     "end_time": "2025-08-04T06:55:22.807109Z",
     "start_time": "2025-08-04T06:55:22.803853Z"
    }
   },
   "cell_type": "code",
   "source": [
    "CONF = 'UNet_train_config.yaml'\n",
    "WEIGHTS = 'with_pca.ckpt'\n",
    "proc = None"
   ],
   "id": "44536800bf000da3",
   "outputs": [],
   "execution_count": 3
  },
  {
   "metadata": {},
   "cell_type": "markdown",
   "source": [
    "## Load Model\n",
    "\n",
    "First we create a cuvis.ai Graph using some the config parameters from our training."
   ],
   "id": "d9c97f588a57a7f"
  },
  {
   "metadata": {
    "ExecuteTime": {
     "end_time": "2025-08-04T06:55:25.978178Z",
     "start_time": "2025-08-04T06:55:22.814130Z"
    }
   },
   "cell_type": "code",
   "source": [
    "with open(CONF, 'r') as f:\n",
    "    config = yaml.safe_load(f)\n",
    "\n",
    "graph = cuvis_ai.pipeline.Graph('Strawberry_graph')\n",
    "\n",
    "Pca = cuvis_ai.preprocessor.PCA(config[\"pca_channels\"])\n",
    "sess = cuvis.SessionFile(str('D:/FreshTwin/swir/Strawberry_133_5_22_04_25.cu3s'))\n",
    "input_mesu = sess.get_measurement(0)\n",
    "\n",
    "if \"cube\" not in input_mesu.data:\n",
    "    if proc is None:\n",
    "        # create processing context only once if there are session files without cubes\n",
    "        proc = cuvis.ProcessingContext(sess)\n",
    "        if Path(config[\"white_path\"]).exists() and Path(config[\"dark_path\"]).exists():\n",
    "            proc.set_reference(cuvis.SessionFile(config[\"white_path\"]).get_measurement(0), cuvis.ReferenceType.White)\n",
    "            proc.set_reference(cuvis.SessionFile(config[\"dark_path\"]).get_measurement(0), cuvis.ReferenceType.Dark)\n",
    "            proc.processing_mode = cuvis.ProcessingMode.Reflectance\n",
    "    mesu = proc.apply(input_mesu)\n",
    "input_data = input_mesu.data[\"cube\"].array\n",
    "Pca.fit(input_data.astype(np.float16))\n",
    "modelNode = cuvis_ai.node.wrap.make_node(FreshTwin2DUNet)(\n",
    "    criterion=torch.nn.NLLLoss, num_classes=config[\"num_classes\"], in_channels=config[\"pca_channels\"])"
   ],
   "id": "865416eea442918f",
   "outputs": [],
   "execution_count": 4
  },
  {
   "metadata": {},
   "cell_type": "markdown",
   "source": [
    "## Create Pipeline\n",
    "\n",
    "Using some transformation nodes, a pipeline for data pre- and postprocessing is created"
   ],
   "id": "25354d15ac7f0d17"
  },
  {
   "metadata": {
    "ExecuteTime": {
     "end_time": "2025-08-04T06:55:25.989736Z",
     "start_time": "2025-08-04T06:55:25.985006Z"
    }
   },
   "cell_type": "code",
   "source": "graph = graph >> modelNode",
   "id": "a00288caca1c343c",
   "outputs": [],
   "execution_count": 5
  },
  {
   "metadata": {},
   "cell_type": "markdown",
   "source": [
    "## Load checkpoint\n",
    "\n",
    "We can easily load the model we previously trained using `train.py` into our modelNode"
   ],
   "id": "7a7b8b6071a0d310"
  },
  {
   "metadata": {
    "ExecuteTime": {
     "end_time": "2025-08-04T06:55:26.044268Z",
     "start_time": "2025-08-04T06:55:26.009035Z"
    }
   },
   "cell_type": "code",
   "source": [
    "checkpoint = torch.load(WEIGHTS, weights_only=False)\n",
    "\n",
    "state_dict = {remove_prefix(\n",
    "    k, 'model.'): v for k, v in checkpoint['state_dict'].items()}\n",
    "\n",
    "modelNode.model.load_state_dict(state_dict)\n",
    "modelNode.initialized = True\n",
    "modelNode.model.pca = checkpoint['pca']"
   ],
   "id": "dd7948b8b2873fcc",
   "outputs": [],
   "execution_count": 6
  },
  {
   "metadata": {},
   "cell_type": "markdown",
   "source": [
    "## Save cuvis.ai graph\n",
    "\n",
    "When saving the graph to disk, the whole pipeline and model code will be saved as well."
   ],
   "id": "d4fff5c7f90244a"
  },
  {
   "metadata": {
    "ExecuteTime": {
     "end_time": "2025-08-04T06:55:27.748934Z",
     "start_time": "2025-08-04T06:55:26.047682Z"
    }
   },
   "cell_type": "code",
   "source": "graph.save_to_file('Strawberry_Unet.ai')",
   "id": "77add2663c6240fd",
   "outputs": [
    {
     "name": "stdout",
     "output_type": "stream",
     "text": [
      "Cant find class 'pca_image'\n",
      "Cant find class 'super'\n",
      "Cant find class 'x'\n",
      "Cant find class 'self'\n",
      "Cant find class 'c11'\n",
      "Project saved to Strawberry_Unet.ai\n"
     ]
    }
   ],
   "execution_count": 7
  },
  {
   "metadata": {},
   "cell_type": "markdown",
   "source": [
    "## Load cuvis.ai graph from file\n",
    "\n",
    "We can now load the zip file again into any project without having to worry about the model class being available there."
   ],
   "id": "fb03a6b9ee4f4abf"
  },
  {
   "metadata": {
    "ExecuteTime": {
     "end_time": "2025-08-04T06:55:28.192207Z",
     "start_time": "2025-08-04T06:55:27.839887Z"
    }
   },
   "cell_type": "code",
   "source": "loaded = cuvis_ai.pipeline.Graph.load_from_file('Strawberry_Unet.ai.zip')",
   "id": "c125c62f6a41afbe",
   "outputs": [
    {
     "name": "stdout",
     "output_type": "stream",
     "text": [
      "Re-initializing module because the following parameters were re-set: module__in_channels, module__num_classes.\n",
      "Re-initializing criterion.\n",
      "Re-initializing optimizer.\n"
     ]
    }
   ],
   "execution_count": 8
  },
  {
   "metadata": {},
   "cell_type": "markdown",
   "source": [
    "## Infer one cube\n",
    "\n",
    "Using the forward function of our graph we can now easily infer any cubert SessionFile that has the same dimensions as the ones we trained our model with. "
   ],
   "id": "a0fe5c0b25fb1530"
  },
  {
   "metadata": {
    "ExecuteTime": {
     "end_time": "2025-08-04T06:55:29.630163Z",
     "start_time": "2025-08-04T06:55:29.626504Z"
    }
   },
   "cell_type": "code",
   "source": "MESU = 'D:/FreshTwin/swir/Strawberry_133_5_22_04_25.cu3s' # TODO: change mesu",
   "id": "bbcbd29de1cf0708",
   "outputs": [],
   "execution_count": 9
  },
  {
   "metadata": {
    "ExecuteTime": {
     "end_time": "2025-08-04T08:28:10.759820Z",
     "start_time": "2025-08-04T08:28:10.697493Z"
    }
   },
   "cell_type": "code",
   "source": [
    "sess = cuvis.SessionFile(str(MESU))\n",
    "input_mesu = sess.get_measurement(0)\n",
    "\n",
    "if \"cube\" not in input_mesu.data:\n",
    "    if proc is None:\n",
    "        # create processing context only once if there are session files without cubes\n",
    "        proc = cuvis.ProcessingContext(sess)\n",
    "        if Path(config[\"white_path\"]).exists() and Path(config[\"dark_path\"]).exists():\n",
    "            proc.set_reference(cuvis.SessionFile(config[\"white_path\"]).get_measurement(0), cuvis.ReferenceType.White)\n",
    "            proc.set_reference(cuvis.SessionFile(config[\"dark_path\"]).get_measurement(0), cuvis.ReferenceType.Dark)\n",
    "            proc.processing_mode = cuvis.ProcessingMode.Reflectance\n",
    "    mesu = proc.apply(input_mesu)\n",
    "input_data = input_mesu.data[\"cube\"].array\n",
    "output = graph.forward(np.expand_dims(input_data.astype(np.float32),0)) "
   ],
   "id": "6dd52c2d3ccd660c",
   "outputs": [
    {
     "name": "stdout",
     "output_type": "stream",
     "text": [
      "--- 0.03195905685424805 seconds ---\n"
     ]
    }
   ],
   "execution_count": 17
  },
  {
   "metadata": {},
   "cell_type": "markdown",
   "source": "## Display the result",
   "id": "1630f2c54905caa0"
  },
  {
   "metadata": {
    "ExecuteTime": {
     "end_time": "2025-08-04T08:28:21.374782Z",
     "start_time": "2025-08-04T08:28:18.777264Z"
    }
   },
   "cell_type": "code",
   "source": [
    "cv.imshow(\"input RGB\", cv.cvtColor(cv.normalize(input_data[:,:,config[\"cube_rgb_channels\"]], None, 0, 255, cv.NORM_MINMAX, 0),cv.COLOR_BGR2RGB))\n",
    "output_img = np.zeros_like(output)\n",
    "prediction = np.argmax(output, axis=2)\n",
    "output_img[:, :, 0] = (prediction == 1).astype(np.float32) # Strawberry will be labeled red\n",
    "output_img[:, :, 2] = (prediction == 2).astype(np.float32) # Bruise will be labled blue\n",
    " \n",
    "cv.imshow(\"output\", cv.cvtColor(cv.normalize(output_img, None, 255, 0, cv.NORM_MINMAX, 0),cv.COLOR_BGR2RGB))\n",
    "\n",
    "cv.waitKey(-1)\n",
    "cv.destroyAllWindows()"
   ],
   "id": "ac58113cde4d7576",
   "outputs": [],
   "execution_count": 19
  },
  {
   "metadata": {
    "ExecuteTime": {
     "end_time": "2025-08-04T08:27:48.003779Z",
     "start_time": "2025-08-04T08:27:47.988841Z"
    }
   },
   "cell_type": "code",
   "source": "cv.destroyAllWindows()\n",
   "id": "a415a5e70d513e57",
   "outputs": [],
   "execution_count": 16
  }
 ],
 "metadata": {
  "kernelspec": {
   "display_name": "Python 3",
   "language": "python",
   "name": "python3"
  },
  "language_info": {
   "codemirror_mode": {
    "name": "ipython",
    "version": 2
   },
   "file_extension": ".py",
   "mimetype": "text/x-python",
   "name": "python",
   "nbconvert_exporter": "python",
   "pygments_lexer": "ipython2",
   "version": "2.7.6"
  }
 },
 "nbformat": 4,
 "nbformat_minor": 5
}
