{
 "cells": [
  {
   "cell_type": "code",
   "execution_count": null,
   "metadata": {},
   "outputs": [],
   "source": [
    "%matplotlib widget\n",
    "import os\n",
    "import glob\n",
    "import cuvis\n",
    "import cuvis_ai\n",
    "import warnings\n",
    "import matplotlib\n",
    "import torchvision.transforms as T\n",
    "from utils import generate_output_gif\n",
    "warnings.filterwarnings('ignore')"
   ]
  },
  {
   "cell_type": "markdown",
   "metadata": {},
   "source": [
    "## Anomaly Detection in Hyperspectral Data\n",
    "\n",
    "This notebook explores methods for detecting anomalies in hyperspectral image cubes. We will visualize results and demonstrate how different techniques highlight outliers or unusual spectral signatures. In particular, we aim to incorporate the RX detector — a classic algorithm for anomaly detection in hyperspectral imagery — to establish a strong baseline."
   ]
  },
  {
   "cell_type": "markdown",
   "metadata": {},
   "source": [
    "### Data: Lentils\n",
    "\n",
    "In this notebook, we will be using a CUVIS.AI session file (video file) which contains multiple sequential hyperspectral datacubes. We begin by loading the hyperspectral dataset that will be used to evaluate different anomaly detection methods. The RX detector will later operate on this data to identify pixels with statistically distinct spectral signatures."
   ]
  },
  {
   "cell_type": "markdown",
   "metadata": {},
   "source": [
    "To get started, we will download a dataset from Google Drive using Cuvis.AI"
   ]
  },
  {
   "cell_type": "code",
   "execution_count": null,
   "metadata": {},
   "outputs": [],
   "source": [
    "try:\n",
    "    base_path = \"../data/cuvis_ai_video\"\n",
    "    os.mkdir(base_path)\n",
    "except FileExistsError as e:\n",
    "    pass\n",
    "if not os.path.exists(\"../data/cuvis_ai_video\"):\n",
    "    data_down = cuvis_ai.data.PublicDataSets()\n",
    "    data_down.download_dataset(\"Aquarium\", download_path=base_path)"
   ]
  },
  {
   "cell_type": "code",
   "execution_count": null,
   "metadata": {},
   "outputs": [],
   "source": [
    "# Let's look at a single example\n",
    "cubes = glob.glob(f'{base_path}/*.cu3s')\n",
    "data = cuvis.SessionFile(cubes[0]).get_measurement(0)\n",
    "sample_cube = data.data.get('cube').array\n",
    "waves = data.data.get('cube').wavelength\n",
    "x,y,z = sample_cube.shape\n",
    "print(f'Width: {x}, Height: {y}, Channels {z}')"
   ]
  },
  {
   "cell_type": "markdown",
   "metadata": {},
   "source": [
    "As we can see, the dataset has 51 channels. We will be looking at the individual spectra to identify which of them could be considered statistical outliers"
   ]
  },
  {
   "cell_type": "markdown",
   "metadata": {},
   "source": [
    "### RX Detector\n",
    "\n",
    "The RX (Reed-Xiaoli) detector is a widely used method for hyperspectral anomaly detection. It computes how different a pixel's spectrum is from the background distribution by measuring the Mahalanobis distance from the global mean.\n",
    "\n",
    "The RX anomaly score for a pixel **x** is given by:\n",
    "\n",
    "$$\n",
    "\\text{RX}(\\mathbf{x}) = (\\mathbf{x} - \\boldsymbol{\\mu})^\\top \\boldsymbol{\\Sigma}^{-1} (\\mathbf{x} - \\boldsymbol{\\mu})\n",
    "$$\n",
    "\n",
    "Where:\n",
    "\n",
    "- $\\mathbf{x}$ is the spectral vector of the pixel,  \n",
    "- $\\boldsymbol{\\mu}$ is the global mean spectrum,  \n",
    "- $\\boldsymbol{\\Sigma}$ is the covariance matrix of the background,  \n",
    "- $\\boldsymbol{\\Sigma}^{-1}$ is the inverse (or pseudo-inverse) covariance matrix.  \n",
    "\n",
    "Pixels with higher RX scores are more likely to be anomalous.\n"
   ]
  },
  {
   "cell_type": "code",
   "execution_count": null,
   "metadata": {},
   "outputs": [],
   "source": [
    "# Define RX detector\n",
    "rx = cuvis_ai.anomaly.RXDetector()"
   ]
  },
  {
   "cell_type": "markdown",
   "metadata": {},
   "source": [
    "Now we will take the output of the RX detector and feed it into a decider node to threshold our decisions. Varying the threshold will determine what is considered an anomaly."
   ]
  },
  {
   "cell_type": "code",
   "execution_count": 98,
   "metadata": {},
   "outputs": [],
   "source": [
    "# Distance decider node\n",
    "threshold = 200000000 # This threshold is set for the aquarium dataset! It will vary depending on the dataset.\n",
    "decider = cuvis_ai.deciders.BinaryDecider(threshold)"
   ]
  },
  {
   "cell_type": "markdown",
   "metadata": {},
   "source": [
    "Now that we have this simple, two-stage node, we connect them indicating the PCA node will be the entry point for data, which will then flow to the GMM node.\n",
    "\n",
    "*This will throw an initialization warning \"Unsatisfied dimensionality constraint\", but this is expected behavior*"
   ]
  },
  {
   "cell_type": "code",
   "execution_count": null,
   "metadata": {},
   "outputs": [],
   "source": [
    "# Define and construct graph\n",
    "graph = cuvis_ai.pipeline.Graph(\"DemoGraph\")\n",
    "graph.add_base_node(rx)\n",
    "graph.add_edge(rx, decider)"
   ]
  },
  {
   "cell_type": "markdown",
   "metadata": {},
   "source": [
    "Cuvis.AI has methods for handling large number of datacubes, including our session file which has over 200 images in it. We'll define it as a dataset to pass into the graph.\n",
    "\n",
    "This dataset is *unlabeled*, meaning it only contains the raw hyperspectral datacubes, and not label files."
   ]
  },
  {
   "cell_type": "code",
   "execution_count": null,
   "metadata": {},
   "outputs": [],
   "source": [
    "# Define unlabeled dataset\n",
    "data = cuvis_ai.data.CuvisDataSet(base_path)"
   ]
  },
  {
   "cell_type": "markdown",
   "metadata": {},
   "source": [
    "### Train the Model\n",
    "\n",
    "As GMM is an unsupervised classifier, we will need to train the model given a subset of the data. The `fit` method takes a number of sample datacubes from our dataloader and uses that to train the graph. Try adjusting the number of training datacubes and observe the impact that has on the training time. We will then use the `forward` method to generate the output results. Tru "
   ]
  },
  {
   "cell_type": "code",
   "execution_count": null,
   "metadata": {},
   "outputs": [],
   "source": [
    "# Use first four images to fit the data\n",
    "number_of_training_images = 1\n",
    "out = graph.forward(*data[0:number_of_training_images])"
   ]
  },
  {
   "cell_type": "code",
   "execution_count": null,
   "metadata": {},
   "outputs": [],
   "source": [
    "import matplotlib.pyplot as plt\n",
    "plt.figure()\n",
    "plt.imshow(out[0])\n",
    "plt.show()"
   ]
  },
  {
   "cell_type": "markdown",
   "metadata": {},
   "source": [
    "### Visualize the Results\n",
    "\n",
    "Now that we have defined a graph in cuvis.ai, we can use it to classify all the images in dataset. The cells below will generate and display showing the anomaly detector applied to the video rendered as a gif."
   ]
  },
  {
   "cell_type": "code",
   "execution_count": null,
   "metadata": {},
   "outputs": [],
   "source": [
    "generate_output_gif(\n",
    "    graph,\n",
    "    data,\n",
    "    base_path,\n",
    "    gif_name=\"rx_result.gif\",\n",
    "    title=\"(Reed-Xiaoli) Anomaly Detector\"\n",
    ")"
   ]
  }
 ],
 "metadata": {
  "kernelspec": {
   "display_name": "cubert_dev",
   "language": "python",
   "name": "python3"
  },
  "language_info": {
   "codemirror_mode": {
    "name": "ipython",
    "version": 3
   },
   "file_extension": ".py",
   "mimetype": "text/x-python",
   "name": "python",
   "nbconvert_exporter": "python",
   "pygments_lexer": "ipython3",
   "version": "3.12.9"
  }
 },
 "nbformat": 4,
 "nbformat_minor": 2
}
