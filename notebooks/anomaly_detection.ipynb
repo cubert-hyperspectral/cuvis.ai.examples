{
 "cells": [
  {
   "cell_type": "code",
   "execution_count": 1,
   "metadata": {},
   "outputs": [],
   "source": [
    "%matplotlib widget\n",
    "import os\n",
    "import glob\n",
    "import cuvis\n",
    "import cuvis_ai\n",
    "import warnings\n",
    "import matplotlib\n",
    "import torchvision.transforms as T\n",
    "from utils import generate_output_gif\n",
    "warnings.filterwarnings('ignore')"
   ]
  },
  {
   "cell_type": "markdown",
   "metadata": {},
   "source": [
    "## Anomaly Detection in Hyperspectral Data\n",
    "\n",
    "This notebook explores methods for detecting anomalies in hyperspectral image cubes. We will visualize results and demonstrate how different techniques highlight outliers or unusual spectral signatures. In particular, we aim to incorporate the RX detector — a classic algorithm for anomaly detection in hyperspectral imagery — to establish a strong baseline."
   ]
  },
  {
   "cell_type": "markdown",
   "metadata": {},
   "source": [
    "### Data: Aquarium\n",
    "\n",
    "In this notebook, we will be using a CUVIS.AI session file (video file) which contains multiple sequential hyperspectral datacubes. We begin by loading the hyperspectral dataset that will be used to evaluate different anomaly detection methods. The RX detector will later operate on this data to identify pixels with statistically distinct spectral signatures."
   ]
  },
  {
   "cell_type": "markdown",
   "metadata": {},
   "source": [
    "To get started, we will download a dataset from Google Drive using Cuvis.AI"
   ]
  },
  {
   "cell_type": "code",
   "execution_count": 2,
   "metadata": {},
   "outputs": [],
   "source": [
    "try:\n",
    "    base_path = \"../data/cuvis_ai_video\"\n",
    "    os.mkdir(base_path)\n",
    "except FileExistsError as e:\n",
    "    pass\n",
    "if not os.path.exists(\"../data/cuvis_ai_video/Aquarium_Sample.cu3s\"):\n",
    "    data_down = cuvis_ai.data.PublicDataSets()\n",
    "    data_down.download_dataset(\"Aquarium\", download_path=base_path)"
   ]
  },
  {
   "cell_type": "code",
   "execution_count": 3,
   "metadata": {},
   "outputs": [
    {
     "name": "stdout",
     "output_type": "stream",
     "text": [
      "Width: 275, Height: 290, Channels 51\n"
     ]
    }
   ],
   "source": [
    "# Let's look at a single example\n",
    "cubes = glob.glob(f'{base_path}/*.cu3s')\n",
    "data = cuvis.SessionFile(cubes[0]).get_measurement(0)\n",
    "sample_cube = data.data.get('cube').array\n",
    "waves = data.data.get('cube').wavelength\n",
    "x,y,z = sample_cube.shape\n",
    "print(f'Width: {x}, Height: {y}, Channels {z}')"
   ]
  },
  {
   "cell_type": "markdown",
   "metadata": {},
   "source": [
    "As we can see, the dataset has 51 channels. We will be looking at the individual spectra to identify which of them could be considered statistical outliers"
   ]
  },
  {
   "cell_type": "markdown",
   "metadata": {},
   "source": [
    "### RX Detector\n",
    "\n",
    "The RX (Reed-Xiaoli) detector is a widely used method for hyperspectral anomaly detection. It computes how different a pixel's spectrum is from the background distribution by measuring the Mahalanobis distance from the global mean.\n",
    "\n",
    "The RX anomaly score for a pixel **x** is given by:\n",
    "\n",
    "\\[\n",
    "\\text{RX}(\\mathbf{x}) = (\\mathbf{x} - \\boldsymbol{\\mu})^\\top \\boldsymbol{\\Sigma}^{-1} (\\mathbf{x} - \\boldsymbol{\\mu})\n",
    "\\]\n",
    "\n",
    "Where:\n",
    "\n",
    "- \\( \\mathbf{x} \\) is the spectral vector of the pixel,\n",
    "- \\( \\boldsymbol{\\mu} \\) is the global mean spectrum,\n",
    "- \\( \\boldsymbol{\\Sigma} \\) is the covariance matrix of the background,\n",
    "- \\( \\boldsymbol{\\Sigma}^{-1} \\) is the inverse (or pseudo-inverse) covariance matrix.\n",
    "\n",
    "Pixels with higher RX scores are more likely to be anomalous.\n"
   ]
  },
  {
   "cell_type": "code",
   "execution_count": 4,
   "metadata": {},
   "outputs": [],
   "source": [
    "# Define RX detector\n",
    "rx = cuvis_ai.anomaly.RXDetector()"
   ]
  },
  {
   "cell_type": "markdown",
   "metadata": {},
   "source": [
    "Now we will take the output of the RX detector and feed it into a decider node to threshold our decisions. Varying the threshold will determine what is considered an anomaly."
   ]
  },
  {
   "cell_type": "code",
   "execution_count": 5,
   "metadata": {},
   "outputs": [],
   "source": [
    "# Distance decider node\n",
    "threshold = 0.1\n",
    "decider = cuvis_ai.deciders.BinaryDecider(1.0)"
   ]
  },
  {
   "cell_type": "markdown",
   "metadata": {},
   "source": [
    "Now that we have this simple, two-stage node, we connect them indicating the PCA node will be the entry point for data, which will then flow to the GMM node.\n",
    "\n",
    "*This will throw an initialization warning \"Unsatisfied dimensionality constraint\", but this is expected behavior*"
   ]
  },
  {
   "cell_type": "code",
   "execution_count": 6,
   "metadata": {},
   "outputs": [],
   "source": [
    "# Define and construct graph\n",
    "graph = cuvis_ai.pipeline.Graph(\"DemoGraph\")\n",
    "graph.add_base_node(rx)\n",
    "graph.add_edge(rx, decider)\n"
   ]
  },
  {
   "cell_type": "markdown",
   "metadata": {},
   "source": [
    "Cuvis.AI has methods for handling large number of datacubes, including our session file which has over 200 images in it. We'll define it as a dataset to pass into the graph.\n",
    "\n",
    "This dataset is *unlabeled*, meaning it only contains the raw hyperspectral datacubes, and not label files."
   ]
  },
  {
   "cell_type": "code",
   "execution_count": 7,
   "metadata": {},
   "outputs": [
    {
     "name": "stderr",
     "output_type": "stream",
     "text": [
      "ERROR:root:Last function returned 'ok'.\n",
      "NoneType: None\n"
     ]
    },
    {
     "name": "stdout",
     "output_type": "stream",
     "text": [
      "Reading from directory: ../data/cuvis_ai_video\n",
      "Found file: ../data/cuvis_ai_video/Aquarium_Sample.cu3s\n",
      "Session file has 251 cubes\n"
     ]
    }
   ],
   "source": [
    "# Define unlabeled dataset\n",
    "data = cuvis_ai.data.CuvisDataSet(base_path)"
   ]
  },
  {
   "cell_type": "markdown",
   "metadata": {},
   "source": [
    "### Train the Model\n",
    "\n",
    "As GMM is an unsupervised classifier, we will need to train the model given a subset of the data. The `fit` method takes a number of sample datacubes from our dataloader and uses that to train the graph. Try adjusting the number of training datacubes and observe the impact that has on the training time. We will then use the `forward` method to generate the output results. Tru "
   ]
  },
  {
   "cell_type": "code",
   "execution_count": 8,
   "metadata": {},
   "outputs": [
    {
     "ename": "TypeError",
     "evalue": "RXDetector.fit() got an unexpected keyword argument 'warm_start'",
     "output_type": "error",
     "traceback": [
      "\u001b[0;31m---------------------------------------------------------------------------\u001b[0m",
      "\u001b[0;31mTypeError\u001b[0m                                 Traceback (most recent call last)",
      "Cell \u001b[0;32mIn[8], line 3\u001b[0m\n\u001b[1;32m      1\u001b[0m \u001b[38;5;66;03m# Use first four images to fit the data\u001b[39;00m\n\u001b[1;32m      2\u001b[0m number_of_training_images \u001b[38;5;241m=\u001b[39m \u001b[38;5;241m1\u001b[39m\n\u001b[0;32m----> 3\u001b[0m \u001b[43mgraph\u001b[49m\u001b[38;5;241;43m.\u001b[39;49m\u001b[43mfit\u001b[49m\u001b[43m(\u001b[49m\u001b[38;5;241;43m*\u001b[39;49m\u001b[43mdata\u001b[49m\u001b[43m[\u001b[49m\u001b[38;5;241;43m0\u001b[39;49m\u001b[43m:\u001b[49m\u001b[43mnumber_of_training_images\u001b[49m\u001b[43m]\u001b[49m\u001b[43m)\u001b[49m\n",
      "File \u001b[0;32m~/anaconda3/envs/cubert_dev/lib/python3.12/site-packages/cuvis_ai/pipeline/graph.py:393\u001b[0m, in \u001b[0;36mGraph.fit\u001b[0;34m(self, X, Y, M)\u001b[0m\n\u001b[1;32m    391\u001b[0m \u001b[38;5;28;01mdef\u001b[39;00m\u001b[38;5;250m \u001b[39m\u001b[38;5;21mfit\u001b[39m(\u001b[38;5;28mself\u001b[39m, X: np\u001b[38;5;241m.\u001b[39mndarray, Y: Optional[Union[np\u001b[38;5;241m.\u001b[39mndarray, List]] \u001b[38;5;241m=\u001b[39m \u001b[38;5;28;01mNone\u001b[39;00m, M: Optional[Union[np\u001b[38;5;241m.\u001b[39mndarray, List]] \u001b[38;5;241m=\u001b[39m \u001b[38;5;28;01mNone\u001b[39;00m):\n\u001b[1;32m    392\u001b[0m     executor \u001b[38;5;241m=\u001b[39m MemoryExecutor(\u001b[38;5;28mself\u001b[39m\u001b[38;5;241m.\u001b[39mgraph, \u001b[38;5;28mself\u001b[39m\u001b[38;5;241m.\u001b[39mnodes, \u001b[38;5;28mself\u001b[39m\u001b[38;5;241m.\u001b[39mentry_point)\n\u001b[0;32m--> 393\u001b[0m     \u001b[43mexecutor\u001b[49m\u001b[38;5;241;43m.\u001b[39;49m\u001b[43mfit\u001b[49m\u001b[43m(\u001b[49m\u001b[43mX\u001b[49m\u001b[43m,\u001b[49m\u001b[43m \u001b[49m\u001b[43mY\u001b[49m\u001b[43m,\u001b[49m\u001b[43m \u001b[49m\u001b[43mM\u001b[49m\u001b[43m)\u001b[49m\n",
      "File \u001b[0;32m~/anaconda3/envs/cubert_dev/lib/python3.12/site-packages/cuvis_ai/pipeline/executor.py:195\u001b[0m, in \u001b[0;36mMemoryExecutor.fit\u001b[0;34m(self, X, Y, M, warm_start)\u001b[0m\n\u001b[1;32m    192\u001b[0m intermediary_labels \u001b[38;5;241m=\u001b[39m {}\n\u001b[1;32m    193\u001b[0m intermediary_metas \u001b[38;5;241m=\u001b[39m {}\n\u001b[0;32m--> 195\u001b[0m intermediary[\u001b[38;5;28mself\u001b[39m\u001b[38;5;241m.\u001b[39mentry_point], intermediary_labels[\u001b[38;5;28mself\u001b[39m\u001b[38;5;241m.\u001b[39mentry_point], intermediary_metas[\u001b[38;5;28mself\u001b[39m\u001b[38;5;241m.\u001b[39mentry_point] \u001b[38;5;241m=\u001b[39m \u001b[38;5;28;43mself\u001b[39;49m\u001b[38;5;241;43m.\u001b[39;49m\u001b[43mfit_node\u001b[49m\u001b[43m(\u001b[49m\n\u001b[1;32m    196\u001b[0m \u001b[43m    \u001b[49m\u001b[38;5;28;43mself\u001b[39;49m\u001b[38;5;241;43m.\u001b[39;49m\u001b[43mnodes\u001b[49m\u001b[43m[\u001b[49m\u001b[38;5;28;43mself\u001b[39;49m\u001b[38;5;241;43m.\u001b[39;49m\u001b[43mentry_point\u001b[49m\u001b[43m]\u001b[49m\u001b[43m,\u001b[49m\u001b[43m \u001b[49m\u001b[43mX\u001b[49m\u001b[43m,\u001b[49m\u001b[43m \u001b[49m\u001b[43mY\u001b[49m\u001b[43m,\u001b[49m\u001b[43m \u001b[49m\u001b[43mM\u001b[49m\u001b[43m,\u001b[49m\u001b[43m \u001b[49m\u001b[43mwarm_start\u001b[49m\u001b[38;5;241;43m=\u001b[39;49m\u001b[43mwarm_start\u001b[49m\u001b[43m)\u001b[49m\n\u001b[1;32m    198\u001b[0m \u001b[38;5;28;01mfor\u001b[39;00m node \u001b[38;5;129;01min\u001b[39;00m sorted_graph[\u001b[38;5;241m1\u001b[39m:]:\n\u001b[1;32m    199\u001b[0m     \u001b[38;5;28mself\u001b[39m\u001b[38;5;241m.\u001b[39m_fit_helper(node, intermediary,\n\u001b[1;32m    200\u001b[0m                      intermediary_labels, intermediary_metas)\n",
      "File \u001b[0;32m~/anaconda3/envs/cubert_dev/lib/python3.12/site-packages/cuvis_ai/pipeline/executor.py:284\u001b[0m, in \u001b[0;36mMemoryExecutor.fit_node\u001b[0;34m(self, node, data, labels, metadata, warm_start)\u001b[0m\n\u001b[1;32m    282\u001b[0m         node\u001b[38;5;241m.\u001b[39mfit(\u001b[38;5;241m*\u001b[39mnode_input, \u001b[38;5;241m*\u001b[39m\u001b[38;5;241m*\u001b[39madditional_meta, warm_start\u001b[38;5;241m=\u001b[39mwarm_start)\n\u001b[1;32m    283\u001b[0m     \u001b[38;5;28;01melse\u001b[39;00m:\n\u001b[0;32m--> 284\u001b[0m         \u001b[43mnode\u001b[49m\u001b[38;5;241;43m.\u001b[39;49m\u001b[43mfit\u001b[49m\u001b[43m(\u001b[49m\u001b[38;5;241;43m*\u001b[39;49m\u001b[43mnode_input\u001b[49m\u001b[43m,\u001b[49m\u001b[43m \u001b[49m\u001b[43mwarm_start\u001b[49m\u001b[38;5;241;43m=\u001b[39;49m\u001b[43mwarm_start\u001b[49m\u001b[43m)\u001b[49m\n\u001b[1;32m    286\u001b[0m \u001b[38;5;28;01mreturn\u001b[39;00m \u001b[38;5;28mself\u001b[39m\u001b[38;5;241m.\u001b[39mforward_node(node, data, labels, metadata)\n",
      "\u001b[0;31mTypeError\u001b[0m: RXDetector.fit() got an unexpected keyword argument 'warm_start'"
     ]
    }
   ],
   "source": [
    "# Use first four images to fit the data\n",
    "number_of_training_images = 1\n",
    "graph.fit(*data[0:number_of_training_images])"
   ]
  },
  {
   "cell_type": "markdown",
   "metadata": {},
   "source": [
    "### Visualize the Results\n",
    "\n",
    "Now that we have defined a graph in cuvis.ai, we can use it to classify all the images in dataset. The cells below will generate and display showing the classification applied to the video rendered as a gif."
   ]
  },
  {
   "cell_type": "code",
   "execution_count": 9,
   "metadata": {},
   "outputs": [
    {
     "name": "stderr",
     "output_type": "stream",
     "text": [
      "Generating frames:   0%|          | 0/251 [00:00<?, ?it/s]\n"
     ]
    },
    {
     "ename": "LinAlgError",
     "evalue": "0-dimensional array given. Array must be at least two-dimensional",
     "output_type": "error",
     "traceback": [
      "\u001b[0;31m---------------------------------------------------------------------------\u001b[0m",
      "\u001b[0;31mLinAlgError\u001b[0m                               Traceback (most recent call last)",
      "Cell \u001b[0;32mIn[9], line 1\u001b[0m\n\u001b[0;32m----> 1\u001b[0m \u001b[43mgenerate_output_gif\u001b[49m\u001b[43m(\u001b[49m\n\u001b[1;32m      2\u001b[0m \u001b[43m    \u001b[49m\u001b[43mgraph\u001b[49m\u001b[43m,\u001b[49m\n\u001b[1;32m      3\u001b[0m \u001b[43m    \u001b[49m\u001b[43mdata\u001b[49m\u001b[43m,\u001b[49m\n\u001b[1;32m      4\u001b[0m \u001b[43m    \u001b[49m\u001b[43mbase_path\u001b[49m\u001b[43m,\u001b[49m\n\u001b[1;32m      5\u001b[0m \u001b[43m    \u001b[49m\u001b[43mgif_name\u001b[49m\u001b[38;5;241;43m=\u001b[39;49m\u001b[38;5;124;43m\"\u001b[39;49m\u001b[38;5;124;43mrx_result.gif\u001b[39;49m\u001b[38;5;124;43m\"\u001b[39;49m\u001b[43m,\u001b[49m\n\u001b[1;32m      6\u001b[0m \u001b[43m    \u001b[49m\u001b[43mtitle\u001b[49m\u001b[38;5;241;43m=\u001b[39;49m\u001b[38;5;124;43m\"\u001b[39;49m\u001b[38;5;124;43m(Reed-Xiaoli) Anomaly Detector\u001b[39;49m\u001b[38;5;124;43m\"\u001b[39;49m\n\u001b[1;32m      7\u001b[0m \u001b[43m)\u001b[49m\n",
      "File \u001b[0;32m~/cubert/cuvis.ai.examples/notebooks/utils.py:28\u001b[0m, in \u001b[0;36mgenerate_output_gif\u001b[0;34m(graph, data, base_path, gif_name, duration, cleanup, show, title)\u001b[0m\n\u001b[1;32m     26\u001b[0m \u001b[38;5;66;03m# Generate frames\u001b[39;00m\n\u001b[1;32m     27\u001b[0m \u001b[38;5;28;01mfor\u001b[39;00m i \u001b[38;5;129;01min\u001b[39;00m tqdm\u001b[38;5;241m.\u001b[39mtqdm(\u001b[38;5;28mrange\u001b[39m(\u001b[38;5;28mlen\u001b[39m(data)), desc\u001b[38;5;241m=\u001b[39m\u001b[38;5;124m\"\u001b[39m\u001b[38;5;124mGenerating frames\u001b[39m\u001b[38;5;124m\"\u001b[39m):\n\u001b[0;32m---> 28\u001b[0m     res_show \u001b[38;5;241m=\u001b[39m \u001b[43mgraph\u001b[49m\u001b[38;5;241;43m.\u001b[39;49m\u001b[43mforward\u001b[49m\u001b[43m(\u001b[49m\u001b[38;5;241;43m*\u001b[39;49m\u001b[43mdata\u001b[49m\u001b[43m[\u001b[49m\u001b[43mi\u001b[49m\u001b[43m:\u001b[49m\u001b[43mi\u001b[49m\u001b[38;5;241;43m+\u001b[39;49m\u001b[38;5;241;43m1\u001b[39;49m\u001b[43m]\u001b[49m\u001b[43m)\u001b[49m\n\u001b[1;32m     29\u001b[0m     plt\u001b[38;5;241m.\u001b[39mfigure()\n\u001b[1;32m     30\u001b[0m     plt\u001b[38;5;241m.\u001b[39mimshow(res_show[\u001b[38;5;241m0\u001b[39m, :, :, :])\n",
      "File \u001b[0;32m~/anaconda3/envs/cubert_dev/lib/python3.12/site-packages/cuvis_ai/pipeline/graph.py:389\u001b[0m, in \u001b[0;36mGraph.forward\u001b[0;34m(self, X, Y, M, backend)\u001b[0m\n\u001b[1;32m    387\u001b[0m \u001b[38;5;28;01melse\u001b[39;00m:\n\u001b[1;32m    388\u001b[0m     \u001b[38;5;28;01mraise\u001b[39;00m \u001b[38;5;167;01mValueError\u001b[39;00m(\u001b[38;5;124m\"\u001b[39m\u001b[38;5;124mUnknown Backend\u001b[39m\u001b[38;5;124m\"\u001b[39m)\n\u001b[0;32m--> 389\u001b[0m \u001b[38;5;28;01mreturn\u001b[39;00m \u001b[43mexecutor\u001b[49m\u001b[38;5;241;43m.\u001b[39;49m\u001b[43mforward\u001b[49m\u001b[43m(\u001b[49m\u001b[43mX\u001b[49m\u001b[43m,\u001b[49m\u001b[43m \u001b[49m\u001b[43mY\u001b[49m\u001b[43m,\u001b[49m\u001b[43m \u001b[49m\u001b[43mM\u001b[49m\u001b[43m)\u001b[49m\n",
      "File \u001b[0;32m~/anaconda3/envs/cubert_dev/lib/python3.12/site-packages/cuvis_ai/pipeline/executor.py:45\u001b[0m, in \u001b[0;36mMemoryExecutor.forward\u001b[0;34m(self, X, Y, M)\u001b[0m\n\u001b[1;32m     43\u001b[0m intermediary_labels \u001b[38;5;241m=\u001b[39m {}\n\u001b[1;32m     44\u001b[0m intermediary_metas \u001b[38;5;241m=\u001b[39m {}\n\u001b[0;32m---> 45\u001b[0m intermediary[\u001b[38;5;28mself\u001b[39m\u001b[38;5;241m.\u001b[39mentry_point], intermediary_labels[\u001b[38;5;28mself\u001b[39m\u001b[38;5;241m.\u001b[39mentry_point], intermediary_metas[\u001b[38;5;28mself\u001b[39m\u001b[38;5;241m.\u001b[39mentry_point] \u001b[38;5;241m=\u001b[39m \u001b[38;5;28;43mself\u001b[39;49m\u001b[38;5;241;43m.\u001b[39;49m\u001b[43mforward_node\u001b[49m\u001b[43m(\u001b[49m\n\u001b[1;32m     46\u001b[0m \u001b[43m    \u001b[49m\u001b[38;5;28;43mself\u001b[39;49m\u001b[38;5;241;43m.\u001b[39;49m\u001b[43mnodes\u001b[49m\u001b[43m[\u001b[49m\u001b[38;5;28;43mself\u001b[39;49m\u001b[38;5;241;43m.\u001b[39;49m\u001b[43mentry_point\u001b[49m\u001b[43m]\u001b[49m\u001b[43m,\u001b[49m\u001b[43m \u001b[49m\u001b[43mxs\u001b[49m\u001b[43m,\u001b[49m\u001b[43m \u001b[49m\u001b[43mys\u001b[49m\u001b[43m,\u001b[49m\u001b[43m \u001b[49m\u001b[43mms\u001b[49m\u001b[43m)\u001b[49m\n\u001b[1;32m     48\u001b[0m \u001b[38;5;28;01mfor\u001b[39;00m node \u001b[38;5;129;01min\u001b[39;00m sorted_graph[\u001b[38;5;241m1\u001b[39m:]:\n\u001b[1;32m     49\u001b[0m     \u001b[38;5;28mself\u001b[39m\u001b[38;5;241m.\u001b[39m_forward_helper(node, intermediary,\n\u001b[1;32m     50\u001b[0m                          intermediary_labels, intermediary_metas)\n",
      "File \u001b[0;32m~/anaconda3/envs/cubert_dev/lib/python3.12/site-packages/cuvis_ai/pipeline/executor.py:122\u001b[0m, in \u001b[0;36mMemoryExecutor.forward_node\u001b[0;34m(self, node, data, labels, metadata)\u001b[0m\n\u001b[1;32m    120\u001b[0m     out \u001b[38;5;241m=\u001b[39m node\u001b[38;5;241m.\u001b[39mforward(data, \u001b[38;5;241m*\u001b[39m\u001b[38;5;241m*\u001b[39madditional_meta)\n\u001b[1;32m    121\u001b[0m \u001b[38;5;28;01melse\u001b[39;00m:\n\u001b[0;32m--> 122\u001b[0m     out \u001b[38;5;241m=\u001b[39m \u001b[43mnode\u001b[49m\u001b[38;5;241;43m.\u001b[39;49m\u001b[43mforward\u001b[49m\u001b[43m(\u001b[49m\u001b[43mdata\u001b[49m\u001b[43m)\u001b[49m\n\u001b[1;32m    123\u001b[0m \u001b[38;5;28;01mif\u001b[39;00m \u001b[38;5;28misinstance\u001b[39m(out, Tuple):\n\u001b[1;32m    124\u001b[0m     \u001b[38;5;28;01mreturn\u001b[39;00m out\n",
      "File \u001b[0;32m~/anaconda3/envs/cubert_dev/lib/python3.12/site-packages/cuvis_ai/anomaly/AbstractDetector.py:40\u001b[0m, in \u001b[0;36mAbstractDetector.forward\u001b[0;34m(self, X, ref_spectra)\u001b[0m\n\u001b[1;32m     38\u001b[0m \u001b[38;5;66;03m# flatten spatial dims\u001b[39;00m\n\u001b[1;32m     39\u001b[0m flat \u001b[38;5;241m=\u001b[39m flatten_spatial(X)\n\u001b[0;32m---> 40\u001b[0m scores \u001b[38;5;241m=\u001b[39m \u001b[38;5;28;43mself\u001b[39;49m\u001b[38;5;241;43m.\u001b[39;49m\u001b[43mscore\u001b[49m\u001b[43m(\u001b[49m\u001b[43mflat\u001b[49m\u001b[43m,\u001b[49m\u001b[43m \u001b[49m\u001b[43mref\u001b[49m\u001b[43m)\u001b[49m\n\u001b[1;32m     41\u001b[0m \u001b[38;5;66;03m# reshape back to spatial cube\u001b[39;00m\n\u001b[1;32m     42\u001b[0m \u001b[38;5;28;01mreturn\u001b[39;00m scores\u001b[38;5;241m.\u001b[39mreshape(\u001b[38;5;241m*\u001b[39mX\u001b[38;5;241m.\u001b[39mshape[:\u001b[38;5;241m-\u001b[39m\u001b[38;5;241m1\u001b[39m], scores\u001b[38;5;241m.\u001b[39mshape[\u001b[38;5;241m-\u001b[39m\u001b[38;5;241m1\u001b[39m])\n",
      "File \u001b[0;32m~/anaconda3/envs/cubert_dev/lib/python3.12/site-packages/cuvis_ai/anomaly/RXDetector.py:28\u001b[0m, in \u001b[0;36mRXDetector.score\u001b[0;34m(self, data, ref_spectra)\u001b[0m\n\u001b[1;32m     26\u001b[0m     H, W, B \u001b[38;5;241m=\u001b[39m data\u001b[38;5;241m.\u001b[39mshape\n\u001b[1;32m     27\u001b[0m     flat \u001b[38;5;241m=\u001b[39m flatten_spatial(data)\n\u001b[0;32m---> 28\u001b[0m     flat_scores \u001b[38;5;241m=\u001b[39m \u001b[38;5;28;43mself\u001b[39;49m\u001b[38;5;241;43m.\u001b[39;49m\u001b[43mscore\u001b[49m\u001b[43m(\u001b[49m\u001b[43mflat\u001b[49m\u001b[43m,\u001b[49m\u001b[43m \u001b[49m\u001b[43mref_spectra\u001b[49m\u001b[43m)\u001b[49m\n\u001b[1;32m     29\u001b[0m     \u001b[38;5;28;01mreturn\u001b[39;00m unflatten_spatial(flat_scores, (H,W,\u001b[38;5;241m1\u001b[39m))\n\u001b[1;32m     31\u001b[0m \u001b[38;5;66;03m# Now 'data' is flattened: (N, B)\u001b[39;00m\n\u001b[1;32m     32\u001b[0m \u001b[38;5;66;03m# Estimate background mean/covariance\u001b[39;00m\n",
      "File \u001b[0;32m~/anaconda3/envs/cubert_dev/lib/python3.12/site-packages/cuvis_ai/anomaly/RXDetector.py:48\u001b[0m, in \u001b[0;36mRXDetector.score\u001b[0;34m(self, data, ref_spectra)\u001b[0m\n\u001b[1;32m     42\u001b[0m     warnings\u001b[38;5;241m.\u001b[39mwarn(\n\u001b[1;32m     43\u001b[0m         \u001b[38;5;124m\"\u001b[39m\u001b[38;5;124mRX detector is being used without properly normalized data. \u001b[39m\u001b[38;5;124m\"\u001b[39m\n\u001b[1;32m     44\u001b[0m         \u001b[38;5;124m\"\u001b[39m\u001b[38;5;124mUnexpected behavior may occur!\u001b[39m\u001b[38;5;124m\"\u001b[39m\n\u001b[1;32m     45\u001b[0m     )\n\u001b[1;32m     47\u001b[0m \u001b[38;5;66;03m# Invert covariance\u001b[39;00m\n\u001b[0;32m---> 48\u001b[0m cov_inv \u001b[38;5;241m=\u001b[39m \u001b[43mnp\u001b[49m\u001b[38;5;241;43m.\u001b[39;49m\u001b[43mlinalg\u001b[49m\u001b[38;5;241;43m.\u001b[39;49m\u001b[43mpinv\u001b[49m\u001b[43m(\u001b[49m\u001b[43mcov\u001b[49m\u001b[43m)\u001b[49m\n\u001b[1;32m     49\u001b[0m diff \u001b[38;5;241m=\u001b[39m data \u001b[38;5;241m-\u001b[39m mu\n\u001b[1;32m     50\u001b[0m \u001b[38;5;66;03m# Mahalanobis distance: diff * cov_inv * diff^T per sample\u001b[39;00m\n",
      "File \u001b[0;32m~/anaconda3/envs/cubert_dev/lib/python3.12/site-packages/numpy/linalg/linalg.py:2022\u001b[0m, in \u001b[0;36mpinv\u001b[0;34m(a, rcond, hermitian)\u001b[0m\n\u001b[1;32m   2020\u001b[0m     \u001b[38;5;28;01mreturn\u001b[39;00m wrap(res)\n\u001b[1;32m   2021\u001b[0m a \u001b[38;5;241m=\u001b[39m a\u001b[38;5;241m.\u001b[39mconjugate()\n\u001b[0;32m-> 2022\u001b[0m u, s, vt \u001b[38;5;241m=\u001b[39m \u001b[43msvd\u001b[49m\u001b[43m(\u001b[49m\u001b[43ma\u001b[49m\u001b[43m,\u001b[49m\u001b[43m \u001b[49m\u001b[43mfull_matrices\u001b[49m\u001b[38;5;241;43m=\u001b[39;49m\u001b[38;5;28;43;01mFalse\u001b[39;49;00m\u001b[43m,\u001b[49m\u001b[43m \u001b[49m\u001b[43mhermitian\u001b[49m\u001b[38;5;241;43m=\u001b[39;49m\u001b[43mhermitian\u001b[49m\u001b[43m)\u001b[49m\n\u001b[1;32m   2024\u001b[0m \u001b[38;5;66;03m# discard small singular values\u001b[39;00m\n\u001b[1;32m   2025\u001b[0m cutoff \u001b[38;5;241m=\u001b[39m rcond[\u001b[38;5;241m.\u001b[39m\u001b[38;5;241m.\u001b[39m\u001b[38;5;241m.\u001b[39m, newaxis] \u001b[38;5;241m*\u001b[39m amax(s, axis\u001b[38;5;241m=\u001b[39m\u001b[38;5;241m-\u001b[39m\u001b[38;5;241m1\u001b[39m, keepdims\u001b[38;5;241m=\u001b[39m\u001b[38;5;28;01mTrue\u001b[39;00m)\n",
      "File \u001b[0;32m~/anaconda3/envs/cubert_dev/lib/python3.12/site-packages/numpy/linalg/linalg.py:1662\u001b[0m, in \u001b[0;36msvd\u001b[0;34m(a, full_matrices, compute_uv, hermitian)\u001b[0m\n\u001b[1;32m   1659\u001b[0m         s \u001b[38;5;241m=\u001b[39m \u001b[38;5;28mabs\u001b[39m(s)\n\u001b[1;32m   1660\u001b[0m         \u001b[38;5;28;01mreturn\u001b[39;00m sort(s)[\u001b[38;5;241m.\u001b[39m\u001b[38;5;241m.\u001b[39m\u001b[38;5;241m.\u001b[39m, ::\u001b[38;5;241m-\u001b[39m\u001b[38;5;241m1\u001b[39m]\n\u001b[0;32m-> 1662\u001b[0m \u001b[43m_assert_stacked_2d\u001b[49m\u001b[43m(\u001b[49m\u001b[43ma\u001b[49m\u001b[43m)\u001b[49m\n\u001b[1;32m   1663\u001b[0m t, result_t \u001b[38;5;241m=\u001b[39m _commonType(a)\n\u001b[1;32m   1665\u001b[0m extobj \u001b[38;5;241m=\u001b[39m get_linalg_error_extobj(_raise_linalgerror_svd_nonconvergence)\n",
      "File \u001b[0;32m~/anaconda3/envs/cubert_dev/lib/python3.12/site-packages/numpy/linalg/linalg.py:206\u001b[0m, in \u001b[0;36m_assert_stacked_2d\u001b[0;34m(*arrays)\u001b[0m\n\u001b[1;32m    204\u001b[0m \u001b[38;5;28;01mfor\u001b[39;00m a \u001b[38;5;129;01min\u001b[39;00m arrays:\n\u001b[1;32m    205\u001b[0m     \u001b[38;5;28;01mif\u001b[39;00m a\u001b[38;5;241m.\u001b[39mndim \u001b[38;5;241m<\u001b[39m \u001b[38;5;241m2\u001b[39m:\n\u001b[0;32m--> 206\u001b[0m         \u001b[38;5;28;01mraise\u001b[39;00m LinAlgError(\u001b[38;5;124m'\u001b[39m\u001b[38;5;132;01m%d\u001b[39;00m\u001b[38;5;124m-dimensional array given. Array must be \u001b[39m\u001b[38;5;124m'\u001b[39m\n\u001b[1;32m    207\u001b[0m                 \u001b[38;5;124m'\u001b[39m\u001b[38;5;124mat least two-dimensional\u001b[39m\u001b[38;5;124m'\u001b[39m \u001b[38;5;241m%\u001b[39m a\u001b[38;5;241m.\u001b[39mndim)\n",
      "\u001b[0;31mLinAlgError\u001b[0m: 0-dimensional array given. Array must be at least two-dimensional"
     ]
    }
   ],
   "source": [
    "generate_output_gif(\n",
    "    graph,\n",
    "    data,\n",
    "    base_path,\n",
    "    gif_name=\"rx_result.gif\",\n",
    "    title=\"(Reed-Xiaoli) Anomaly Detector\"\n",
    ")"
   ]
  },
  {
   "cell_type": "markdown",
   "metadata": {},
   "source": [
    "### Next Steps\n",
    "\n",
    "As you can see from the results above, clustering takes some tuning to identify clustering parameters which yield good performance. cuvis.ai makes several unsupervised classification techniques available to work with hyperspectral data.\n",
    "\n",
    "- K-Means Clustering\n",
    "- Gaussian Mixture Modeling\n",
    "- Mean-Shift Clustering\n",
    "\n",
    "Take a peek at the [source code](https://github.com/cubert-hyperspectral/cuvis.ai/blob/main/cuvis_ai/unsupervised/sklearn_wrapped.py) and try out different classification nodes with the dataset!"
   ]
  }
 ],
 "metadata": {
  "kernelspec": {
   "display_name": "cubert_dev",
   "language": "python",
   "name": "python3"
  },
  "language_info": {
   "codemirror_mode": {
    "name": "ipython",
    "version": 3
   },
   "file_extension": ".py",
   "mimetype": "text/x-python",
   "name": "python",
   "nbconvert_exporter": "python",
   "pygments_lexer": "ipython3",
   "version": "3.12.9"
  }
 },
 "nbformat": 4,
 "nbformat_minor": 2
}
